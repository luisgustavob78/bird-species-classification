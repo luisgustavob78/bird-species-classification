{
  "cells": [
    {
      "cell_type": "markdown",
      "metadata": {
        "id": "HVI9I5G2zLSS"
      },
      "source": [
        "# Setup"
      ]
    },
    {
      "cell_type": "code",
      "execution_count": null,
      "metadata": {
        "colab": {
          "base_uri": "https://localhost:8080/"
        },
        "id": "U2PlR1GNz2Yk",
        "outputId": "a64204e7-22a0-488c-950b-7d04bcacb34b"
      },
      "outputs": [
        {
          "output_type": "stream",
          "name": "stdout",
          "text": [
            "Looking in indexes: https://pypi.org/simple, https://us-python.pkg.dev/colab-wheels/public/simple/\n",
            "Collecting split-folders\n",
            "  Downloading split_folders-0.5.1-py3-none-any.whl (8.4 kB)\n",
            "Installing collected packages: split-folders\n",
            "Successfully installed split-folders-0.5.1\n"
          ]
        }
      ],
      "source": [
        "#download de biblioteca para dividir a pasta de treino entre validação e treino\n",
        "!pip install split-folders"
      ]
    },
    {
      "cell_type": "code",
      "execution_count": null,
      "metadata": {
        "id": "qIFY3mvRz6Hs"
      },
      "outputs": [],
      "source": [
        "#importações nativas\n",
        "import os\n",
        "import glob\n",
        "import shutil\n",
        "import random\n",
        "\n",
        "#setup\n",
        "import numpy as np\n",
        "import pandas as pd\n",
        "\n",
        "import tensorflow as tf\n",
        "from tensorflow import keras\n",
        "from tensorflow.keras import optimizers, regularizers, initializers\n",
        "from keras.applications.efficientnet import preprocess_input\n",
        "from tensorflow.keras.preprocessing.image import ImageDataGenerator\n",
        "\n",
        "from PIL import Image\n",
        "from IPython.display import Image as display_image\n",
        "from IPython.display import display\n",
        "\n",
        "import matplotlib.pyplot as plt\n",
        "import matplotlib.cm as cm\n",
        "import seaborn as sns\n",
        "from matplotlib.colors import ListedColormap\n",
        "\n",
        "from sklearn.metrics import accuracy_score, balanced_accuracy_score, classification_report\n",
        "\n",
        "import splitfolders"
      ]
    },
    {
      "cell_type": "markdown",
      "metadata": {
        "id": "9rADN7aFzI7L"
      },
      "source": [
        "# Carga de dados"
      ]
    },
    {
      "cell_type": "code",
      "execution_count": null,
      "metadata": {
        "colab": {
          "base_uri": "https://localhost:8080/"
        },
        "id": "HX1g8a9rz6ET",
        "outputId": "ff6659a2-96fc-4390-c5be-7c97450f7c9c"
      },
      "outputs": [
        {
          "output_type": "stream",
          "name": "stdout",
          "text": [
            "Looking in indexes: https://pypi.org/simple, https://us-python.pkg.dev/colab-wheels/public/simple/\n",
            "Requirement already satisfied: kaggle in /usr/local/lib/python3.8/dist-packages (1.5.12)\n",
            "Requirement already satisfied: six>=1.10 in /usr/local/lib/python3.8/dist-packages (from kaggle) (1.15.0)\n",
            "Requirement already satisfied: python-slugify in /usr/local/lib/python3.8/dist-packages (from kaggle) (7.0.0)\n",
            "Requirement already satisfied: tqdm in /usr/local/lib/python3.8/dist-packages (from kaggle) (4.64.1)\n",
            "Requirement already satisfied: python-dateutil in /usr/local/lib/python3.8/dist-packages (from kaggle) (2.8.2)\n",
            "Requirement already satisfied: requests in /usr/local/lib/python3.8/dist-packages (from kaggle) (2.23.0)\n",
            "Requirement already satisfied: certifi in /usr/local/lib/python3.8/dist-packages (from kaggle) (2022.9.24)\n",
            "Requirement already satisfied: urllib3 in /usr/local/lib/python3.8/dist-packages (from kaggle) (1.24.3)\n",
            "Requirement already satisfied: text-unidecode>=1.3 in /usr/local/lib/python3.8/dist-packages (from python-slugify->kaggle) (1.3)\n",
            "Requirement already satisfied: chardet<4,>=3.0.2 in /usr/local/lib/python3.8/dist-packages (from requests->kaggle) (3.0.4)\n",
            "Requirement already satisfied: idna<3,>=2.5 in /usr/local/lib/python3.8/dist-packages (from requests->kaggle) (2.10)\n"
          ]
        }
      ],
      "source": [
        "#biblioteca do kaggle para fazer o download das imagens\n",
        "!pip install kaggle"
      ]
    },
    {
      "cell_type": "code",
      "execution_count": null,
      "metadata": {
        "id": "zXZEiJE2z6Ck"
      },
      "outputs": [],
      "source": [
        "#criando um diretorio para salvar os arquivos kaggle\n",
        "!mkdir ~/.kaggle"
      ]
    },
    {
      "cell_type": "code",
      "execution_count": null,
      "metadata": {
        "id": "jCVUi44iz6A7"
      },
      "outputs": [],
      "source": [
        "#salvando o json com as APIs do kaggle no diretório criado\n",
        "! cp kaggle.json ~/.kaggle/"
      ]
    },
    {
      "cell_type": "code",
      "execution_count": null,
      "metadata": {
        "colab": {
          "base_uri": "https://localhost:8080/"
        },
        "id": "KDLYmue8z5_Q",
        "outputId": "6fc6dda6-c189-4c5c-a8d4-fa17b753bbdf"
      },
      "outputs": [
        {
          "output_type": "stream",
          "name": "stdout",
          "text": [
            "Warning: Your Kaggle API key is readable by other users on this system! To fix this, you can run 'chmod 600 /root/.kaggle/kaggle.json'\n",
            "Downloading bird-species-classification.zip to /content\n",
            " 98% 1.03G/1.06G [00:09<00:00, 198MB/s]\n",
            "100% 1.06G/1.06G [00:09<00:00, 122MB/s]\n"
          ]
        }
      ],
      "source": [
        "#download das imagens\n",
        "! kaggle datasets download nishantbansal01/bird-species-classification"
      ]
    },
    {
      "cell_type": "code",
      "execution_count": null,
      "metadata": {
        "id": "rySDVHEzz59W"
      },
      "outputs": [],
      "source": [
        "#descompactando as pastas\n",
        "!unzip -q bird-species-classification.zip"
      ]
    },
    {
      "cell_type": "markdown",
      "metadata": {
        "id": "fEyd1FVozF-U"
      },
      "source": [
        "# Pre processamento"
      ]
    },
    {
      "cell_type": "code",
      "execution_count": null,
      "metadata": {
        "colab": {
          "base_uri": "https://localhost:8080/"
        },
        "id": "ZujgQ_Eyz55i",
        "outputId": "6f1845d7-bd58-40e6-95f3-f942e3f0a04c"
      },
      "outputs": [
        {
          "output_type": "stream",
          "name": "stderr",
          "text": [
            "Copying files: 9414 files [00:02, 3195.36 files/s]\n"
          ]
        }
      ],
      "source": [
        "#dividindo a base de Treino em treino e validação\n",
        "splitfolders.ratio(\"./Train/\", output=\"output\",\n",
        "                   seed=42, ratio=(.8, .2))"
      ]
    },
    {
      "cell_type": "code",
      "execution_count": null,
      "metadata": {
        "id": "2BGs-u50z54K"
      },
      "outputs": [],
      "source": [
        "#definindo alguns parâmetros do treinamento\n",
        "IMG_SIZE = 300\n",
        "BATCH_SIZE = 32"
      ]
    },
    {
      "cell_type": "code",
      "execution_count": null,
      "metadata": {
        "colab": {
          "base_uri": "https://localhost:8080/"
        },
        "id": "kBMf3B9iz52l",
        "outputId": "8a18a341-5dae-469f-e1b5-c0b859e4abdb"
      },
      "outputs": [
        {
          "output_type": "stream",
          "name": "stdout",
          "text": [
            "Found 7445 images belonging to 200 classes.\n",
            "Found 1969 images belonging to 200 classes.\n",
            "Found 2374 images belonging to 200 classes.\n"
          ]
        }
      ],
      "source": [
        "# para o baseline, não faremos aumentação de dados\n",
        "# OBS: NA HORA DE APLICAR AUMENTAÇÃO DE DADOS, FAZER APENAS NA BASE DE TREINO\n",
        "\n",
        "train_datagen = ImageDataGenerator(\n",
        "    rotation_range=90,\n",
        "    width_shift_range=0.2,\n",
        "    height_shift_range=0.2,\n",
        "    shear_range=0.2,\n",
        "    zoom_range=0.2,\n",
        "    horizontal_flip=True,\n",
        "    fill_mode=\"nearest\",\n",
        "    preprocessing_function = preprocess_input\n",
        ")\n",
        "\n",
        "train_generator = train_datagen.flow_from_directory(\n",
        "    './output/train',\n",
        "    target_size=(IMG_SIZE, IMG_SIZE),\n",
        "    batch_size=BATCH_SIZE,\n",
        "    class_mode=\"sparse\",\n",
        "    shuffle=True,\n",
        ")\n",
        "\n",
        "\n",
        "valid_datagen = ImageDataGenerator(preprocessing_function = preprocess_input)\n",
        "validation_generator = valid_datagen.flow_from_directory(\n",
        "    './output/val',\n",
        "    target_size=(IMG_SIZE, IMG_SIZE),\n",
        "    batch_size=BATCH_SIZE,\n",
        "    class_mode=\"sparse\",\n",
        "    shuffle=False\n",
        ")\n",
        "\n",
        "\n",
        "\n",
        "test_datagen = ImageDataGenerator(preprocessing_function = preprocess_input)\n",
        "test_generator = test_datagen.flow_from_directory(\n",
        "    'Test',\n",
        "    target_size=(IMG_SIZE, IMG_SIZE),\n",
        "    batch_size=BATCH_SIZE,\n",
        "    class_mode=\"sparse\",\n",
        "    shuffle=False\n",
        ")"
      ]
    },
    {
      "cell_type": "markdown",
      "metadata": {
        "id": "8ef8vnaxy6CW"
      },
      "source": [
        "# Modelagem"
      ]
    },
    {
      "cell_type": "code",
      "execution_count": null,
      "metadata": {
        "colab": {
          "base_uri": "https://localhost:8080/"
        },
        "id": "tt0v_c-vz50k",
        "outputId": "afd5bb2c-49bc-4975-b5ce-08703929b9a8"
      },
      "outputs": [
        {
          "output_type": "stream",
          "name": "stdout",
          "text": [
            "Downloading data from https://storage.googleapis.com/keras-applications/efficientnetb1_notop.h5\n",
            "27018416/27018416 [==============================] - 0s 0us/step\n"
          ]
        }
      ],
      "source": [
        "#fazendo o download dos pesos imagenet da efficientnet B3\n",
        "from tensorflow.keras.applications import EfficientNetB1\n",
        "model = EfficientNetB1(weights='imagenet', include_top=False, input_shape=(IMG_SIZE, IMG_SIZE, 3))"
      ]
    },
    {
      "cell_type": "code",
      "execution_count": null,
      "metadata": {
        "id": "DpqJEnTJlu9L"
      },
      "outputs": [],
      "source": [
        "#checando as camadas da efficient net\n",
        "# model.summary()"
      ]
    },
    {
      "cell_type": "code",
      "execution_count": null,
      "metadata": {
        "id": "CCP0ZdANz5xV"
      },
      "outputs": [],
      "source": [
        "#congelando as camadas do modelo pretreinado\n",
        "for layer in model.layers:\n",
        "    layer.trainable = False\n",
        "\n",
        "#adicionando o pooling e final e a camada output com a dimensão do nosso problema (200 classes)\n",
        "# frozen_model = tf.keras.Sequential([\n",
        "#   model,\n",
        "#   tf.keras.layers.GlobalAveragePooling2D(),\n",
        "#   tf.keras.layers.Dense(200, activation=\"softmax\")\n",
        "# ])\n",
        "\n",
        "# frozen_model.summary()\n",
        "\n",
        "\n",
        "\n",
        "#usando a functional API para atender o gradCAM\n",
        "pooling = tf.keras.layers.GlobalAveragePooling2D()(model.output)\n",
        "dropout_layer = tf.keras.layers.Dropout(0.4)(pooling)\n",
        "output_layer = tf.keras.layers.Dense(200, activation=\"softmax\")(dropout_layer)\n",
        "frozen_model = tf.keras.Model(model.input, output_layer)\n",
        "\n",
        "# frozen_model.summary()"
      ]
    },
    {
      "cell_type": "code",
      "execution_count": null,
      "metadata": {
        "id": "PcBdnyJoz5vk"
      },
      "outputs": [],
      "source": [
        "# #checkpoint para salvar os melhores resultados\n",
        "# cp_callback = tf.keras.callbacks.ModelCheckpoint('weights.h5',\n",
        "#                                         save_best_only=True,\n",
        "#                                         verbose=1)\n",
        "\n",
        "#criando alguns callbacks para otimizar o treinamento e evitar epochs desnecessarias\n",
        "callbacks = [\n",
        "    tf.keras.callbacks.EarlyStopping(patience=4, min_delta=0.01),\n",
        "    tf.keras.callbacks.ReduceLROnPlateau(monitor='val_acc', factor=0.2,\n",
        "                              patience=4)\n",
        "\n",
        "]"
      ]
    },
    {
      "cell_type": "code",
      "execution_count": null,
      "metadata": {
        "id": "noT4Ugq2z5se"
      },
      "outputs": [],
      "source": [
        "#compila o modelo\n",
        "frozen_model.compile(optimizer=tf.keras.optimizers.Adam(0.001),\n",
        "              loss=tf.keras.losses.SparseCategoricalCrossentropy(),\n",
        "              metrics=['acc'])\n",
        "\n",
        "# frozen_model.compile(\n",
        "#     loss=\"categorical_crossentropy\",\n",
        "#     optimizer=\"adam\",\n",
        "#     metrics=[\"acc\"],\n",
        "# )"
      ]
    },
    {
      "cell_type": "code",
      "execution_count": null,
      "metadata": {
        "colab": {
          "base_uri": "https://localhost:8080/"
        },
        "id": "yPZjh2ylz5qz",
        "outputId": "c1892f0c-bda3-4fb3-aa55-db8a2b6a1856"
      },
      "outputs": [
        {
          "output_type": "stream",
          "name": "stdout",
          "text": [
            "Epoch 1/30\n",
            "233/233 [==============================] - 180s 707ms/step - loss: 3.9264 - acc: 0.2064 - val_loss: 2.6575 - val_acc: 0.4911 - lr: 0.0010\n",
            "Epoch 2/30\n",
            "233/233 [==============================] - 162s 696ms/step - loss: 2.3183 - acc: 0.4928 - val_loss: 1.8979 - val_acc: 0.6379 - lr: 0.0010\n",
            "Epoch 3/30\n",
            "233/233 [==============================] - 160s 686ms/step - loss: 1.7663 - acc: 0.5958 - val_loss: 1.5673 - val_acc: 0.6856 - lr: 0.0010\n",
            "Epoch 4/30\n",
            "233/233 [==============================] - 161s 692ms/step - loss: 1.4943 - acc: 0.6531 - val_loss: 1.3800 - val_acc: 0.7034 - lr: 0.0010\n",
            "Epoch 5/30\n",
            "233/233 [==============================] - 161s 689ms/step - loss: 1.3078 - acc: 0.6877 - val_loss: 1.2722 - val_acc: 0.7263 - lr: 0.0010\n",
            "Epoch 6/30\n",
            "233/233 [==============================] - 161s 692ms/step - loss: 1.1744 - acc: 0.7116 - val_loss: 1.1820 - val_acc: 0.7313 - lr: 0.0010\n",
            "Epoch 7/30\n",
            "233/233 [==============================] - 161s 692ms/step - loss: 1.0909 - acc: 0.7354 - val_loss: 1.1314 - val_acc: 0.7324 - lr: 0.0010\n",
            "Epoch 8/30\n",
            "233/233 [==============================] - 159s 683ms/step - loss: 1.0422 - acc: 0.7383 - val_loss: 1.0825 - val_acc: 0.7425 - lr: 0.0010\n",
            "Epoch 9/30\n",
            "233/233 [==============================] - 158s 679ms/step - loss: 0.9474 - acc: 0.7667 - val_loss: 1.0537 - val_acc: 0.7390 - lr: 0.0010\n",
            "Epoch 10/30\n",
            "233/233 [==============================] - 159s 680ms/step - loss: 0.9219 - acc: 0.7635 - val_loss: 1.0193 - val_acc: 0.7481 - lr: 0.0010\n",
            "Epoch 11/30\n",
            "233/233 [==============================] - 159s 681ms/step - loss: 0.8627 - acc: 0.7758 - val_loss: 1.0082 - val_acc: 0.7461 - lr: 0.0010\n",
            "Epoch 12/30\n",
            "233/233 [==============================] - 159s 683ms/step - loss: 0.8496 - acc: 0.7734 - val_loss: 0.9746 - val_acc: 0.7511 - lr: 0.0010\n",
            "Epoch 13/30\n",
            "233/233 [==============================] - 158s 679ms/step - loss: 0.7817 - acc: 0.7907 - val_loss: 0.9592 - val_acc: 0.7613 - lr: 0.0010\n",
            "Epoch 14/30\n",
            "233/233 [==============================] - 159s 682ms/step - loss: 0.7726 - acc: 0.7942 - val_loss: 0.9486 - val_acc: 0.7537 - lr: 0.0010\n",
            "Epoch 15/30\n",
            "233/233 [==============================] - 159s 681ms/step - loss: 0.7393 - acc: 0.8040 - val_loss: 0.9456 - val_acc: 0.7501 - lr: 0.0010\n",
            "Epoch 16/30\n",
            "233/233 [==============================] - 159s 682ms/step - loss: 0.7267 - acc: 0.8051 - val_loss: 0.9284 - val_acc: 0.7628 - lr: 0.0010\n",
            "Epoch 17/30\n",
            "233/233 [==============================] - 159s 680ms/step - loss: 0.7071 - acc: 0.8118 - val_loss: 0.9180 - val_acc: 0.7577 - lr: 0.0010\n",
            "Epoch 18/30\n",
            "233/233 [==============================] - 159s 684ms/step - loss: 0.6880 - acc: 0.8156 - val_loss: 0.9068 - val_acc: 0.7613 - lr: 0.0010\n",
            "Epoch 19/30\n",
            "233/233 [==============================] - 159s 682ms/step - loss: 0.6511 - acc: 0.8238 - val_loss: 0.9014 - val_acc: 0.7608 - lr: 0.0010\n",
            "Epoch 20/30\n",
            "233/233 [==============================] - 159s 681ms/step - loss: 0.6581 - acc: 0.8197 - val_loss: 0.8986 - val_acc: 0.7603 - lr: 0.0010\n",
            "Epoch 21/30\n",
            "233/233 [==============================] - 159s 681ms/step - loss: 0.5924 - acc: 0.8463 - val_loss: 0.8812 - val_acc: 0.7684 - lr: 2.0000e-04\n",
            "Epoch 22/30\n",
            "233/233 [==============================] - 159s 683ms/step - loss: 0.5728 - acc: 0.8475 - val_loss: 0.8796 - val_acc: 0.7689 - lr: 2.0000e-04\n",
            "Epoch 23/30\n",
            "233/233 [==============================] - 159s 683ms/step - loss: 0.5754 - acc: 0.8465 - val_loss: 0.8768 - val_acc: 0.7689 - lr: 2.0000e-04\n",
            "Epoch 24/30\n",
            "233/233 [==============================] - 158s 678ms/step - loss: 0.5628 - acc: 0.8529 - val_loss: 0.8741 - val_acc: 0.7694 - lr: 2.0000e-04\n",
            "Epoch 25/30\n",
            "233/233 [==============================] - 158s 679ms/step - loss: 0.5780 - acc: 0.8465 - val_loss: 0.8713 - val_acc: 0.7725 - lr: 2.0000e-04\n",
            "CPU times: user 1h 10min 49s, sys: 1min 10s, total: 1h 11min 59s\n",
            "Wall time: 1h 6min 46s\n"
          ]
        },
        {
          "output_type": "execute_result",
          "data": {
            "text/plain": [
              "<keras.callbacks.History at 0x7f2f4019c9a0>"
            ]
          },
          "metadata": {},
          "execution_count": 15
        }
      ],
      "source": [
        "#treinamento\n",
        "%%time\n",
        "frozen_model.fit(train_generator,\n",
        "            epochs=30,\n",
        "            batch_size=BATCH_SIZE,\n",
        "            validation_data=validation_generator,\n",
        "            callbacks=callbacks)"
      ]
    },
    {
      "cell_type": "code",
      "source": [
        "#salvando o modelo\n",
        "frozen_model.save(\"efnetB1_frozenDenseReg_aug.h5\")"
      ],
      "metadata": {
        "id": "tfxTj-scEf0r"
      },
      "execution_count": null,
      "outputs": []
    },
    {
      "cell_type": "code",
      "execution_count": null,
      "metadata": {
        "colab": {
          "base_uri": "https://localhost:8080/",
          "height": 392
        },
        "id": "minUYxLyz5iM",
        "outputId": "b0234f93-d5d7-4340-f9f0-037d59f4158a"
      },
      "outputs": [
        {
          "output_type": "execute_result",
          "data": {
            "text/plain": [
              "<matplotlib.axes._subplots.AxesSubplot at 0x7f2ed771c580>"
            ]
          },
          "metadata": {},
          "execution_count": 16
        },
        {
          "output_type": "display_data",
          "data": {
            "text/plain": [
              "<Figure size 1152x432 with 2 Axes>"
            ],
            "image/png": "[encoded data removed]"
          },
          "metadata": {
            "needs_background": "light"
          }
        }
      ],
      "source": [
        "#avaliação da evolução das curvas loss para analisar a qualidade do treinamento\n",
        "history_f = pd.DataFrame(frozen_model.history.history)\n",
        "\n",
        "plt.figure(figsize=(16, 6))\n",
        "plt.subplot(121)\n",
        "sns.lineplot(data=history_f.loc[:25, ['loss', 'val_loss']])\n",
        "\n",
        "plt.subplot(122)\n",
        "sns.lineplot(data=history_f.loc[:25, ['acc', 'val_acc']])"
      ]
    },
    {
      "cell_type": "markdown",
      "metadata": {
        "id": "naCI5AJnxc2P"
      },
      "source": [
        "# Availando o modelo na base de validação"
      ]
    },
    {
      "cell_type": "code",
      "execution_count": null,
      "metadata": {
        "id": "2EB1VScev9ra"
      },
      "outputs": [],
      "source": [
        "#extraindo os valores das classes na base de validação\n",
        "y_val = validation_generator.labels"
      ]
    },
    {
      "cell_type": "code",
      "execution_count": null,
      "metadata": {
        "colab": {
          "base_uri": "https://localhost:8080/"
        },
        "id": "5spoM_A-z5dk",
        "outputId": "795ae2f8-4d17-4d10-a6be-6281ad22886f"
      },
      "outputs": [
        {
          "name": "stdout",
          "output_type": "stream",
          "text": [
            "62/62 [==============================] - 10s 136ms/step\n"
          ]
        }
      ],
      "source": [
        "#gerando as predições na base de validação\n",
        "y_pred = frozen_model.predict(validation_generator)"
      ]
    },
    {
      "cell_type": "code",
      "execution_count": null,
      "metadata": {
        "colab": {
          "base_uri": "https://localhost:8080/"
        },
        "id": "LkqTQzFFgwhD",
        "outputId": "7f0781d1-d8c0-43c6-9d97-ed5f21176d0f"
      },
      "outputs": [
        {
          "name": "stdout",
          "output_type": "stream",
          "text": [
            "62/62 [==============================] - 9s 143ms/step - loss: 1.0821 - acc: 0.6948\n"
          ]
        },
        {
          "data": {
            "text/plain": [
              "[1.082122802734375, 0.6947689056396484]"
            ]
          },
          "execution_count": 40,
          "metadata": {},
          "output_type": "execute_result"
        }
      ],
      "source": [
        "#usando o evaluate para avaliar o modelo de acordo com as métricas definidas no treinamento\n",
        "frozen_model.evaluate(validation_generator)"
      ]
    },
    {
      "cell_type": "code",
      "execution_count": null,
      "metadata": {
        "id": "7m9_jtMkz5bT"
      },
      "outputs": [],
      "source": [
        "#transformando as probabilidades em classe\n",
        "y_pred = np.argmax(y_pred, axis=1)"
      ]
    },
    {
      "cell_type": "code",
      "execution_count": null,
      "metadata": {
        "colab": {
          "base_uri": "https://localhost:8080/"
        },
        "id": "_oYUep9PuMf2",
        "outputId": "6613bd06-8b8a-4ffd-9c2d-cafa1327e24f"
      },
      "outputs": [
        {
          "name": "stdout",
          "output_type": "stream",
          "text": [
            "Acurácia Balanceada - Efficient Net B3 baseline model: 0.6947689182326053\n"
          ]
        }
      ],
      "source": [
        "#cálculo da acurácia balanceada no conjunto de validação\n",
        "from sklearn.metrics import accuracy_score\n",
        "\n",
        "result = accuracy_score(y_val, y_pred)\n",
        "print(f\"Acurácia Balanceada - Efficient Net B3 baseline model: {result}\")"
      ]
    },
    {
      "cell_type": "markdown",
      "metadata": {
        "id": "JvSG4G1dx1hD"
      },
      "source": [
        "# Availando o modelo na base de testes"
      ]
    },
    {
      "cell_type": "code",
      "execution_count": null,
      "metadata": {
        "id": "zIVRIhANuMWM"
      },
      "outputs": [],
      "source": [
        "#extraindo os valores das classes na base de testes\n",
        "y_test = test_generator.labels"
      ]
    },
    {
      "cell_type": "code",
      "execution_count": null,
      "metadata": {
        "colab": {
          "base_uri": "https://localhost:8080/"
        },
        "id": "Bo2JJf6IuMTj",
        "outputId": "8d99f76a-61cc-40e6-ba3e-4f6ff3952762"
      },
      "outputs": [
        {
          "output_type": "stream",
          "name": "stdout",
          "text": [
            "75/75 [==============================] - 14s 164ms/step\n"
          ]
        }
      ],
      "source": [
        "#gerando as predições na base de testes\n",
        "y_pred = frozen_model.predict(test_generator)"
      ]
    },
    {
      "cell_type": "code",
      "execution_count": null,
      "metadata": {
        "colab": {
          "base_uri": "https://localhost:8080/"
        },
        "id": "Xnniv20lExVa",
        "outputId": "393f9235-3142-47b0-91d4-bc02fbe3731c"
      },
      "outputs": [
        {
          "output_type": "stream",
          "name": "stdout",
          "text": [
            "75/75 [==============================] - 12s 161ms/step - loss: 0.8126 - acc: 0.7835\n"
          ]
        },
        {
          "output_type": "execute_result",
          "data": {
            "text/plain": [
              "[0.8125672340393066, 0.7834877967834473]"
            ]
          },
          "metadata": {},
          "execution_count": 19
        }
      ],
      "source": [
        "#usando o evaluate para avaliar o modelo de acordo com as métricas definidas no treinamento\n",
        "frozen_model.evaluate(test_generator)"
      ]
    },
    {
      "cell_type": "code",
      "execution_count": null,
      "metadata": {
        "id": "grr4ereSExTY"
      },
      "outputs": [],
      "source": [
        "#transformando as probabilidades em classe\n",
        "y_pred = np.argmax(y_pred, axis=1)"
      ]
    },
    {
      "cell_type": "code",
      "execution_count": null,
      "metadata": {
        "colab": {
          "base_uri": "https://localhost:8080/"
        },
        "id": "r9FVkhCbExPZ",
        "outputId": "a06f7a63-da76-43c7-fe0b-42cd251e74fd"
      },
      "outputs": [
        {
          "output_type": "stream",
          "name": "stdout",
          "text": [
            "Acurácia Balanceada na base de testes - Efficient Net B3 baseline model: 0.7834877843302444\n"
          ]
        }
      ],
      "source": [
        "#cálculo da acurácia balanceada na base de testes\n",
        "result = accuracy_score(y_test, y_pred)\n",
        "print(f\"Acurácia Balanceada na base de testes - Efficient Net B3 baseline model: {result}\")"
      ]
    },
    {
      "cell_type": "code",
      "source": [
        "print(classification_report(y_test, y_pred))"
      ],
      "metadata": {
        "colab": {
          "base_uri": "https://localhost:8080/"
        },
        "id": "2vZ9tvVG0b7q",
        "outputId": "218799d3-5b72-45b5-9bcb-4755a734fc18"
      },
      "execution_count": null,
      "outputs": [
        {
          "output_type": "stream",
          "name": "stdout",
          "text": [
            "              precision    recall  f1-score   support\n",
            "\n",
            "           0       0.45      0.42      0.43        12\n",
            "           1       0.28      0.58      0.38        12\n",
            "           2       1.00      1.00      1.00        12\n",
            "           3       0.92      0.92      0.92        12\n",
            "           4       0.92      0.92      0.92        12\n",
            "           5       1.00      0.90      0.95        10\n",
            "           6       0.82      0.75      0.78        12\n",
            "           7       0.46      0.50      0.48        12\n",
            "           8       0.78      0.70      0.74        10\n",
            "           9       0.73      0.92      0.81        12\n",
            "          10       0.75      0.75      0.75        12\n",
            "          11       0.85      0.92      0.88        12\n",
            "          12       0.79      0.92      0.85        12\n",
            "          13       0.75      0.75      0.75        12\n",
            "          14       0.64      0.75      0.69        12\n",
            "          15       0.89      0.67      0.76        12\n",
            "          16       1.00      0.92      0.96        12\n",
            "          17       0.92      0.92      0.92        12\n",
            "          18       0.83      0.91      0.87        11\n",
            "          19       0.79      0.92      0.85        12\n",
            "          20       0.85      0.92      0.88        12\n",
            "          21       1.00      0.58      0.74        12\n",
            "          22       1.00      0.92      0.96        12\n",
            "          23       0.86      1.00      0.92        12\n",
            "          24       0.89      0.67      0.76        12\n",
            "          25       0.57      0.67      0.62        12\n",
            "          26       0.80      0.67      0.73        12\n",
            "          27       1.00      0.83      0.91        12\n",
            "          28       1.00      0.92      0.96        12\n",
            "          29       0.54      0.58      0.56        12\n",
            "          30       0.53      0.67      0.59        12\n",
            "          31       0.36      0.42      0.38        12\n",
            "          32       1.00      0.83      0.91        12\n",
            "          33       0.92      1.00      0.96        12\n",
            "          34       1.00      1.00      1.00        12\n",
            "          35       0.92      0.92      0.92        12\n",
            "          36       1.00      0.92      0.96        12\n",
            "          37       0.64      0.58      0.61        12\n",
            "          38       0.88      0.58      0.70        12\n",
            "          39       0.86      1.00      0.92        12\n",
            "          40       0.83      0.83      0.83        12\n",
            "          41       0.92      1.00      0.96        12\n",
            "          42       0.83      0.83      0.83        12\n",
            "          43       0.54      0.58      0.56        12\n",
            "          44       0.92      1.00      0.96        12\n",
            "          45       0.77      0.83      0.80        12\n",
            "          46       0.78      0.58      0.67        12\n",
            "          47       0.75      0.50      0.60        12\n",
            "          48       0.83      0.83      0.83        12\n",
            "          49       0.83      0.83      0.83        12\n",
            "          50       0.55      0.50      0.52        12\n",
            "          51       0.69      0.75      0.72        12\n",
            "          52       0.58      0.58      0.58        12\n",
            "          53       0.15      0.17      0.16        12\n",
            "          54       0.92      0.92      0.92        12\n",
            "          55       1.00      1.00      1.00         9\n",
            "          56       0.75      1.00      0.86        12\n",
            "          57       1.00      1.00      1.00        12\n",
            "          58       0.82      0.75      0.78        12\n",
            "          59       0.92      0.92      0.92        12\n",
            "          60       0.78      0.58      0.67        12\n",
            "          61       1.00      1.00      1.00        12\n",
            "          62       0.92      1.00      0.96        12\n",
            "          63       0.53      0.83      0.65        12\n",
            "          64       0.12      0.08      0.10        12\n",
            "          65       1.00      1.00      1.00        12\n",
            "          66       0.50      0.33      0.40        12\n",
            "          67       1.00      0.92      0.96        12\n",
            "          68       0.79      0.92      0.85        12\n",
            "          69       0.92      1.00      0.96        12\n",
            "          70       0.86      1.00      0.92        12\n",
            "          71       0.50      0.50      0.50        12\n",
            "          72       0.90      0.75      0.82        12\n",
            "          73       0.57      0.67      0.62        12\n",
            "          74       0.86      1.00      0.92        12\n",
            "          75       0.79      0.92      0.85        12\n",
            "          76       1.00      1.00      1.00        12\n",
            "          77       0.79      0.92      0.85        12\n",
            "          78       0.69      0.92      0.79        12\n",
            "          79       1.00      0.92      0.96        12\n",
            "          80       0.91      0.83      0.87        12\n",
            "          81       1.00      1.00      1.00        12\n",
            "          82       0.92      1.00      0.96        12\n",
            "          83       1.00      0.92      0.96        12\n",
            "          84       0.73      0.92      0.81        12\n",
            "          85       0.92      1.00      0.96        12\n",
            "          86       1.00      0.50      0.67        12\n",
            "          87       0.24      0.42      0.30        12\n",
            "          88       1.00      0.92      0.96        12\n",
            "          89       0.90      0.75      0.82        12\n",
            "          90       0.80      0.33      0.47        12\n",
            "          91       0.71      0.83      0.77        12\n",
            "          92       1.00      1.00      1.00        12\n",
            "          93       1.00      1.00      1.00        12\n",
            "          94       0.60      0.50      0.55        12\n",
            "          95       0.73      0.67      0.70        12\n",
            "          96       0.92      1.00      0.96        12\n",
            "          97       1.00      0.75      0.86        12\n",
            "          98       0.90      0.75      0.82        12\n",
            "          99       1.00      0.83      0.91        12\n",
            "         100       0.92      0.92      0.92        12\n",
            "         101       0.73      0.92      0.81        12\n",
            "         102       1.00      0.89      0.94         9\n",
            "         103       0.38      0.50      0.43        12\n",
            "         104       0.56      0.83      0.67        12\n",
            "         105       0.79      0.92      0.85        12\n",
            "         106       0.75      0.50      0.60        12\n",
            "         107       0.91      0.83      0.87        12\n",
            "         108       0.78      0.58      0.67        12\n",
            "         109       0.92      0.92      0.92        12\n",
            "         110       1.00      0.92      0.96        12\n",
            "         111       1.00      0.82      0.90        11\n",
            "         112       0.77      0.83      0.80        12\n",
            "         113       0.64      0.58      0.61        12\n",
            "         114       0.90      0.75      0.82        12\n",
            "         115       0.82      0.75      0.78        12\n",
            "         116       0.57      1.00      0.73        12\n",
            "         117       0.85      0.92      0.88        12\n",
            "         118       0.73      0.92      0.81        12\n",
            "         119       1.00      1.00      1.00        12\n",
            "         120       0.82      0.75      0.78        12\n",
            "         121       0.59      0.83      0.69        12\n",
            "         122       0.67      0.33      0.44        12\n",
            "         123       0.50      0.67      0.57        12\n",
            "         124       1.00      0.50      0.67        12\n",
            "         125       1.00      0.92      0.96        12\n",
            "         126       0.92      1.00      0.96        12\n",
            "         127       1.00      0.67      0.80        12\n",
            "         128       0.77      0.83      0.80        12\n",
            "         129       1.00      1.00      1.00        11\n",
            "         130       0.55      0.50      0.52        12\n",
            "         131       0.50      0.75      0.60        12\n",
            "         132       0.92      1.00      0.96        12\n",
            "         133       0.92      1.00      0.96        12\n",
            "         134       0.83      0.83      0.83        12\n",
            "         135       1.00      0.83      0.91        12\n",
            "         136       0.89      0.67      0.76        12\n",
            "         137       0.67      0.67      0.67        12\n",
            "         138       0.75      0.50      0.60        12\n",
            "         139       0.71      0.83      0.77        12\n",
            "         140       0.92      0.92      0.92        12\n",
            "         141       0.92      0.92      0.92        12\n",
            "         142       0.80      1.00      0.89        12\n",
            "         143       1.00      1.00      1.00        12\n",
            "         144       1.00      0.92      0.96        12\n",
            "         145       0.56      0.75      0.64        12\n",
            "         146       0.91      0.91      0.91        11\n",
            "         147       0.82      0.75      0.78        12\n",
            "         148       0.86      0.55      0.67        11\n",
            "         149       0.85      0.92      0.88        12\n",
            "         150       0.88      0.70      0.78        10\n",
            "         151       0.82      0.75      0.78        12\n",
            "         152       0.90      0.75      0.82        12\n",
            "         153       1.00      0.75      0.86        12\n",
            "         154       1.00      1.00      1.00        12\n",
            "         155       0.69      0.75      0.72        12\n",
            "         156       0.92      0.92      0.92        12\n",
            "         157       0.50      0.58      0.54        12\n",
            "         158       0.85      0.92      0.88        12\n",
            "         159       0.42      0.42      0.42        12\n",
            "         160       0.45      0.42      0.43        12\n",
            "         161       1.00      0.92      0.96        12\n",
            "         162       1.00      0.92      0.96        12\n",
            "         163       0.92      0.92      0.92        12\n",
            "         164       0.70      0.58      0.64        12\n",
            "         165       0.86      0.50      0.63        12\n",
            "         166       0.50      0.50      0.50        10\n",
            "         167       1.00      0.50      0.67        12\n",
            "         168       0.89      0.67      0.76        12\n",
            "         169       1.00      1.00      1.00         9\n",
            "         170       0.92      1.00      0.96        12\n",
            "         171       0.82      0.75      0.78        12\n",
            "         172       0.36      0.33      0.35        12\n",
            "         173       0.50      0.42      0.45        12\n",
            "         174       0.92      1.00      0.96        12\n",
            "         175       0.79      0.92      0.85        12\n",
            "         176       1.00      0.92      0.96        12\n",
            "         177       0.56      0.75      0.64        12\n",
            "         178       0.56      0.42      0.48        12\n",
            "         179       1.00      0.92      0.96        12\n",
            "         180       0.58      0.58      0.58        12\n",
            "         181       1.00      0.92      0.96        12\n",
            "         182       0.47      0.67      0.55        12\n",
            "         183       0.70      0.70      0.70        10\n",
            "         184       1.00      1.00      1.00        10\n",
            "         185       1.00      1.00      1.00        12\n",
            "         186       0.92      1.00      0.96        12\n",
            "         187       0.69      0.92      0.79        12\n",
            "         188       0.62      0.83      0.71        12\n",
            "         189       1.00      0.75      0.86        12\n",
            "         190       0.75      0.75      0.75        12\n",
            "         191       0.67      0.83      0.74        12\n",
            "         192       0.91      0.83      0.87        12\n",
            "         193       0.77      0.83      0.80        12\n",
            "         194       0.83      0.83      0.83        12\n",
            "         195       0.50      0.33      0.40        12\n",
            "         196       0.59      0.83      0.69        12\n",
            "         197       0.91      0.83      0.87        12\n",
            "         198       1.00      0.92      0.96        12\n",
            "         199       0.86      0.50      0.63        12\n",
            "\n",
            "    accuracy                           0.78      2374\n",
            "   macro avg       0.80      0.78      0.79      2374\n",
            "weighted avg       0.80      0.78      0.78      2374\n",
            "\n"
          ]
        }
      ]
    },
    {
      "cell_type": "code",
      "source": [
        "report = classification_report(y_test, y_pred, output_dict=True)\n",
        "df_report = pd.DataFrame(report).transpose()\n",
        "df_report.head()"
      ],
      "metadata": {
        "colab": {
          "base_uri": "https://localhost:8080/",
          "height": 206
        },
        "id": "G6uIDNd90j__",
        "outputId": "10099ba0-9dac-4278-cfa9-e308606e4ab7"
      },
      "execution_count": null,
      "outputs": [
        {
          "output_type": "execute_result",
          "data": {
            "text/plain": [
              "   precision    recall  f1-score  support\n",
              "0   0.545455  0.500000  0.521739     12.0\n",
              "1   0.280000  0.583333  0.378378     12.0\n",
              "2   0.923077  1.000000  0.960000     12.0\n",
              "3   0.857143  1.000000  0.923077     12.0\n",
              "4   0.785714  0.916667  0.846154     12.0"
            ],
            "text/html": [
              "\n",
              "  <div id=\"df-864c0691-0c20-4711-bd0c-db2bc537e3e1\">\n",
              "    <div class=\"colab-df-container\">\n",
              "      <div>\n",
              "<style scoped>\n",
              "    .dataframe tbody tr th:only-of-type {\n",
              "        vertical-align: middle;\n",
              "    }\n",
              "\n",
              "    .dataframe tbody tr th {\n",
              "        vertical-align: top;\n",
              "    }\n",
              "\n",
              "    .dataframe thead th {\n",
              "        text-align: right;\n",
              "    }\n",
              "</style>\n",
              "<table border=\"1\" class=\"dataframe\">\n",
              "  <thead>\n",
              "    <tr style=\"text-align: right;\">\n",
              "      <th></th>\n",
              "      <th>precision</th>\n",
              "      <th>recall</th>\n",
              "      <th>f1-score</th>\n",
              "      <th>support</th>\n",
              "    </tr>\n",
              "  </thead>\n",
              "  <tbody>\n",
              "    <tr>\n",
              "      <th>0</th>\n",
              "      <td>0.545455</td>\n",
              "      <td>0.500000</td>\n",
              "      <td>0.521739</td>\n",
              "      <td>12.0</td>\n",
              "    </tr>\n",
              "    <tr>\n",
              "      <th>1</th>\n",
              "      <td>0.280000</td>\n",
              "      <td>0.583333</td>\n",
              "      <td>0.378378</td>\n",
              "      <td>12.0</td>\n",
              "    </tr>\n",
              "    <tr>\n",
              "      <th>2</th>\n",
              "      <td>0.923077</td>\n",
              "      <td>1.000000</td>\n",
              "      <td>0.960000</td>\n",
              "      <td>12.0</td>\n",
              "    </tr>\n",
              "    <tr>\n",
              "      <th>3</th>\n",
              "      <td>0.857143</td>\n",
              "      <td>1.000000</td>\n",
              "      <td>0.923077</td>\n",
              "      <td>12.0</td>\n",
              "    </tr>\n",
              "    <tr>\n",
              "      <th>4</th>\n",
              "      <td>0.785714</td>\n",
              "      <td>0.916667</td>\n",
              "      <td>0.846154</td>\n",
              "      <td>12.0</td>\n",
              "    </tr>\n",
              "  </tbody>\n",
              "</table>\n",
              "</div>\n",
              "      <button class=\"colab-df-convert\" onclick=\"convertToInteractive('df-864c0691-0c20-4711-bd0c-db2bc537e3e1')\"\n",
              "              title=\"Convert this dataframe to an interactive table.\"\n",
              "              style=\"display:none;\">\n",
              "        \n",
              "  <svg xmlns=\"http://www.w3.org/2000/svg\" height=\"24px\"viewBox=\"0 0 24 24\"\n",
              "       width=\"24px\">\n",
              "    <path d=\"M0 0h24v24H0V0z\" fill=\"none\"/>\n",
              "    <path d=\"M18.56 5.44l.94 2.06.94-2.06 2.06-.94-2.06-.94-.94-2.06-.94 2.06-2.06.94zm-11 1L8.5 8.5l.94-2.06 2.06-.94-2.06-.94L8.5 2.5l-.94 2.06-2.06.94zm10 10l.94 2.06.94-2.06 2.06-.94-2.06-.94-.94-2.06-.94 2.06-2.06.94z\"/><path d=\"M17.41 7.96l-1.37-1.37c-.4-.4-.92-.59-1.43-.59-.52 0-1.04.2-1.43.59L10.3 9.45l-7.72 7.72c-.78.78-.78 2.05 0 2.83L4 21.41c.39.39.9.59 1.41.59.51 0 1.02-.2 1.41-.59l7.78-7.78 2.81-2.81c.8-.78.8-2.07 0-2.86zM5.41 20L4 18.59l7.72-7.72 1.47 1.35L5.41 20z\"/>\n",
              "  </svg>\n",
              "      </button>\n",
              "      \n",
              "  <style>\n",
              "    .colab-df-container {\n",
              "      display:flex;\n",
              "      flex-wrap:wrap;\n",
              "      gap: 12px;\n",
              "    }\n",
              "\n",
              "    .colab-df-convert {\n",
              "      background-color: #E8F0FE;\n",
              "      border: none;\n",
              "      border-radius: 50%;\n",
              "      cursor: pointer;\n",
              "      display: none;\n",
              "      fill: #1967D2;\n",
              "      height: 32px;\n",
              "      padding: 0 0 0 0;\n",
              "      width: 32px;\n",
              "    }\n",
              "\n",
              "    .colab-df-convert:hover {\n",
              "      background-color: #E2EBFA;\n",
              "      box-shadow: 0px 1px 2px rgba(60, 64, 67, 0.3), 0px 1px 3px 1px rgba(60, 64, 67, 0.15);\n",
              "      fill: #174EA6;\n",
              "    }\n",
              "\n",
              "    [theme=dark] .colab-df-convert {\n",
              "      background-color: #3B4455;\n",
              "      fill: #D2E3FC;\n",
              "    }\n",
              "\n",
              "    [theme=dark] .colab-df-convert:hover {\n",
              "      background-color: #434B5C;\n",
              "      box-shadow: 0px 1px 3px 1px rgba(0, 0, 0, 0.15);\n",
              "      filter: drop-shadow(0px 1px 2px rgba(0, 0, 0, 0.3));\n",
              "      fill: #FFFFFF;\n",
              "    }\n",
              "  </style>\n",
              "\n",
              "      <script>\n",
              "        const buttonEl =\n",
              "          document.querySelector('#df-864c0691-0c20-4711-bd0c-db2bc537e3e1 button.colab-df-convert');\n",
              "        buttonEl.style.display =\n",
              "          google.colab.kernel.accessAllowed ? 'block' : 'none';\n",
              "\n",
              "        async function convertToInteractive(key) {\n",
              "          const element = document.querySelector('#df-864c0691-0c20-4711-bd0c-db2bc537e3e1');\n",
              "          const dataTable =\n",
              "            await google.colab.kernel.invokeFunction('convertToInteractive',\n",
              "                                                     [key], {});\n",
              "          if (!dataTable) return;\n",
              "\n",
              "          const docLinkHtml = 'Like what you see? Visit the ' +\n",
              "            '<a target=\"_blank\" href=https://colab.research.google.com/notebooks/data_table.ipynb>data table notebook</a>'\n",
              "            + ' to learn more about interactive tables.';\n",
              "          element.innerHTML = '';\n",
              "          dataTable['output_type'] = 'display_data';\n",
              "          await google.colab.output.renderOutput(dataTable, element);\n",
              "          const docLink = document.createElement('div');\n",
              "          docLink.innerHTML = docLinkHtml;\n",
              "          element.appendChild(docLink);\n",
              "        }\n",
              "      </script>\n",
              "    </div>\n",
              "  </div>\n",
              "  "
            ]
          },
          "metadata": {},
          "execution_count": 33
        }
      ]
    },
    {
      "cell_type": "code",
      "source": [
        "df_report = df_report.reset_index()\n",
        "df_report.columns = [\"class\", \"precision\", \"recall\", \"f1-score\", \"support\"]"
      ],
      "metadata": {
        "id": "2emZ67kz1Wxr"
      },
      "execution_count": null,
      "outputs": []
    },
    {
      "cell_type": "code",
      "source": [
        "df_report.head()"
      ],
      "metadata": {
        "colab": {
          "base_uri": "https://localhost:8080/",
          "height": 206
        },
        "id": "Of10SfgX1Wux",
        "outputId": "ec218aa5-1dff-4211-bb43-3a0afa942acc"
      },
      "execution_count": null,
      "outputs": [
        {
          "output_type": "execute_result",
          "data": {
            "text/plain": [
              "  class  precision    recall  f1-score  support\n",
              "0     0   0.545455  0.500000  0.521739     12.0\n",
              "1     1   0.280000  0.583333  0.378378     12.0\n",
              "2     2   0.923077  1.000000  0.960000     12.0\n",
              "3     3   0.857143  1.000000  0.923077     12.0\n",
              "4     4   0.785714  0.916667  0.846154     12.0"
            ],
            "text/html": [
              "\n",
              "  <div id=\"df-3e8d0801-3723-4ef4-ae4b-0ac7d00f8292\">\n",
              "    <div class=\"colab-df-container\">\n",
              "      <div>\n",
              "<style scoped>\n",
              "    .dataframe tbody tr th:only-of-type {\n",
              "        vertical-align: middle;\n",
              "    }\n",
              "\n",
              "    .dataframe tbody tr th {\n",
              "        vertical-align: top;\n",
              "    }\n",
              "\n",
              "    .dataframe thead th {\n",
              "        text-align: right;\n",
              "    }\n",
              "</style>\n",
              "<table border=\"1\" class=\"dataframe\">\n",
              "  <thead>\n",
              "    <tr style=\"text-align: right;\">\n",
              "      <th></th>\n",
              "      <th>class</th>\n",
              "      <th>precision</th>\n",
              "      <th>recall</th>\n",
              "      <th>f1-score</th>\n",
              "      <th>support</th>\n",
              "    </tr>\n",
              "  </thead>\n",
              "  <tbody>\n",
              "    <tr>\n",
              "      <th>0</th>\n",
              "      <td>0</td>\n",
              "      <td>0.545455</td>\n",
              "      <td>0.500000</td>\n",
              "      <td>0.521739</td>\n",
              "      <td>12.0</td>\n",
              "    </tr>\n",
              "    <tr>\n",
              "      <th>1</th>\n",
              "      <td>1</td>\n",
              "      <td>0.280000</td>\n",
              "      <td>0.583333</td>\n",
              "      <td>0.378378</td>\n",
              "      <td>12.0</td>\n",
              "    </tr>\n",
              "    <tr>\n",
              "      <th>2</th>\n",
              "      <td>2</td>\n",
              "      <td>0.923077</td>\n",
              "      <td>1.000000</td>\n",
              "      <td>0.960000</td>\n",
              "      <td>12.0</td>\n",
              "    </tr>\n",
              "    <tr>\n",
              "      <th>3</th>\n",
              "      <td>3</td>\n",
              "      <td>0.857143</td>\n",
              "      <td>1.000000</td>\n",
              "      <td>0.923077</td>\n",
              "      <td>12.0</td>\n",
              "    </tr>\n",
              "    <tr>\n",
              "      <th>4</th>\n",
              "      <td>4</td>\n",
              "      <td>0.785714</td>\n",
              "      <td>0.916667</td>\n",
              "      <td>0.846154</td>\n",
              "      <td>12.0</td>\n",
              "    </tr>\n",
              "  </tbody>\n",
              "</table>\n",
              "</div>\n",
              "      <button class=\"colab-df-convert\" onclick=\"convertToInteractive('df-3e8d0801-3723-4ef4-ae4b-0ac7d00f8292')\"\n",
              "              title=\"Convert this dataframe to an interactive table.\"\n",
              "              style=\"display:none;\">\n",
              "        \n",
              "  <svg xmlns=\"http://www.w3.org/2000/svg\" height=\"24px\"viewBox=\"0 0 24 24\"\n",
              "       width=\"24px\">\n",
              "    <path d=\"M0 0h24v24H0V0z\" fill=\"none\"/>\n",
              "    <path d=\"M18.56 5.44l.94 2.06.94-2.06 2.06-.94-2.06-.94-.94-2.06-.94 2.06-2.06.94zm-11 1L8.5 8.5l.94-2.06 2.06-.94-2.06-.94L8.5 2.5l-.94 2.06-2.06.94zm10 10l.94 2.06.94-2.06 2.06-.94-2.06-.94-.94-2.06-.94 2.06-2.06.94z\"/><path d=\"M17.41 7.96l-1.37-1.37c-.4-.4-.92-.59-1.43-.59-.52 0-1.04.2-1.43.59L10.3 9.45l-7.72 7.72c-.78.78-.78 2.05 0 2.83L4 21.41c.39.39.9.59 1.41.59.51 0 1.02-.2 1.41-.59l7.78-7.78 2.81-2.81c.8-.78.8-2.07 0-2.86zM5.41 20L4 18.59l7.72-7.72 1.47 1.35L5.41 20z\"/>\n",
              "  </svg>\n",
              "      </button>\n",
              "      \n",
              "  <style>\n",
              "    .colab-df-container {\n",
              "      display:flex;\n",
              "      flex-wrap:wrap;\n",
              "      gap: 12px;\n",
              "    }\n",
              "\n",
              "    .colab-df-convert {\n",
              "      background-color: #E8F0FE;\n",
              "      border: none;\n",
              "      border-radius: 50%;\n",
              "      cursor: pointer;\n",
              "      display: none;\n",
              "      fill: #1967D2;\n",
              "      height: 32px;\n",
              "      padding: 0 0 0 0;\n",
              "      width: 32px;\n",
              "    }\n",
              "\n",
              "    .colab-df-convert:hover {\n",
              "      background-color: #E2EBFA;\n",
              "      box-shadow: 0px 1px 2px rgba(60, 64, 67, 0.3), 0px 1px 3px 1px rgba(60, 64, 67, 0.15);\n",
              "      fill: #174EA6;\n",
              "    }\n",
              "\n",
              "    [theme=dark] .colab-df-convert {\n",
              "      background-color: #3B4455;\n",
              "      fill: #D2E3FC;\n",
              "    }\n",
              "\n",
              "    [theme=dark] .colab-df-convert:hover {\n",
              "      background-color: #434B5C;\n",
              "      box-shadow: 0px 1px 3px 1px rgba(0, 0, 0, 0.15);\n",
              "      filter: drop-shadow(0px 1px 2px rgba(0, 0, 0, 0.3));\n",
              "      fill: #FFFFFF;\n",
              "    }\n",
              "  </style>\n",
              "\n",
              "      <script>\n",
              "        const buttonEl =\n",
              "          document.querySelector('#df-3e8d0801-3723-4ef4-ae4b-0ac7d00f8292 button.colab-df-convert');\n",
              "        buttonEl.style.display =\n",
              "          google.colab.kernel.accessAllowed ? 'block' : 'none';\n",
              "\n",
              "        async function convertToInteractive(key) {\n",
              "          const element = document.querySelector('#df-3e8d0801-3723-4ef4-ae4b-0ac7d00f8292');\n",
              "          const dataTable =\n",
              "            await google.colab.kernel.invokeFunction('convertToInteractive',\n",
              "                                                     [key], {});\n",
              "          if (!dataTable) return;\n",
              "\n",
              "          const docLinkHtml = 'Like what you see? Visit the ' +\n",
              "            '<a target=\"_blank\" href=https://colab.research.google.com/notebooks/data_table.ipynb>data table notebook</a>'\n",
              "            + ' to learn more about interactive tables.';\n",
              "          element.innerHTML = '';\n",
              "          dataTable['output_type'] = 'display_data';\n",
              "          await google.colab.output.renderOutput(dataTable, element);\n",
              "          const docLink = document.createElement('div');\n",
              "          docLink.innerHTML = docLinkHtml;\n",
              "          element.appendChild(docLink);\n",
              "        }\n",
              "      </script>\n",
              "    </div>\n",
              "  </div>\n",
              "  "
            ]
          },
          "metadata": {},
          "execution_count": 24
        }
      ]
    },
    {
      "cell_type": "code",
      "source": [
        "df_report.tail()"
      ],
      "metadata": {
        "colab": {
          "base_uri": "https://localhost:8080/",
          "height": 206
        },
        "id": "-F0TdkETL9Pg",
        "outputId": "e7cf2401-ab53-40cd-9038-e15f64b577ec"
      },
      "execution_count": null,
      "outputs": [
        {
          "output_type": "execute_result",
          "data": {
            "text/plain": [
              "            class  precision    recall  f1-score      support\n",
              "198           198   1.000000  0.833333  0.909091    12.000000\n",
              "199           199   0.750000  0.500000  0.600000    12.000000\n",
              "200      accuracy   0.783488  0.783488  0.783488     0.783488\n",
              "201     macro avg   0.796746  0.784270  0.782478  2374.000000\n",
              "202  weighted avg   0.795718  0.783488  0.781509  2374.000000"
            ],
            "text/html": [
              "\n",
              "  <div id=\"df-2d73586e-0b56-4256-9250-86f98a003bc7\">\n",
              "    <div class=\"colab-df-container\">\n",
              "      <div>\n",
              "<style scoped>\n",
              "    .dataframe tbody tr th:only-of-type {\n",
              "        vertical-align: middle;\n",
              "    }\n",
              "\n",
              "    .dataframe tbody tr th {\n",
              "        vertical-align: top;\n",
              "    }\n",
              "\n",
              "    .dataframe thead th {\n",
              "        text-align: right;\n",
              "    }\n",
              "</style>\n",
              "<table border=\"1\" class=\"dataframe\">\n",
              "  <thead>\n",
              "    <tr style=\"text-align: right;\">\n",
              "      <th></th>\n",
              "      <th>class</th>\n",
              "      <th>precision</th>\n",
              "      <th>recall</th>\n",
              "      <th>f1-score</th>\n",
              "      <th>support</th>\n",
              "    </tr>\n",
              "  </thead>\n",
              "  <tbody>\n",
              "    <tr>\n",
              "      <th>198</th>\n",
              "      <td>198</td>\n",
              "      <td>1.000000</td>\n",
              "      <td>0.833333</td>\n",
              "      <td>0.909091</td>\n",
              "      <td>12.000000</td>\n",
              "    </tr>\n",
              "    <tr>\n",
              "      <th>199</th>\n",
              "      <td>199</td>\n",
              "      <td>0.750000</td>\n",
              "      <td>0.500000</td>\n",
              "      <td>0.600000</td>\n",
              "      <td>12.000000</td>\n",
              "    </tr>\n",
              "    <tr>\n",
              "      <th>200</th>\n",
              "      <td>accuracy</td>\n",
              "      <td>0.783488</td>\n",
              "      <td>0.783488</td>\n",
              "      <td>0.783488</td>\n",
              "      <td>0.783488</td>\n",
              "    </tr>\n",
              "    <tr>\n",
              "      <th>201</th>\n",
              "      <td>macro avg</td>\n",
              "      <td>0.796746</td>\n",
              "      <td>0.784270</td>\n",
              "      <td>0.782478</td>\n",
              "      <td>2374.000000</td>\n",
              "    </tr>\n",
              "    <tr>\n",
              "      <th>202</th>\n",
              "      <td>weighted avg</td>\n",
              "      <td>0.795718</td>\n",
              "      <td>0.783488</td>\n",
              "      <td>0.781509</td>\n",
              "      <td>2374.000000</td>\n",
              "    </tr>\n",
              "  </tbody>\n",
              "</table>\n",
              "</div>\n",
              "      <button class=\"colab-df-convert\" onclick=\"convertToInteractive('df-2d73586e-0b56-4256-9250-86f98a003bc7')\"\n",
              "              title=\"Convert this dataframe to an interactive table.\"\n",
              "              style=\"display:none;\">\n",
              "        \n",
              "  <svg xmlns=\"http://www.w3.org/2000/svg\" height=\"24px\"viewBox=\"0 0 24 24\"\n",
              "       width=\"24px\">\n",
              "    <path d=\"M0 0h24v24H0V0z\" fill=\"none\"/>\n",
              "    <path d=\"M18.56 5.44l.94 2.06.94-2.06 2.06-.94-2.06-.94-.94-2.06-.94 2.06-2.06.94zm-11 1L8.5 8.5l.94-2.06 2.06-.94-2.06-.94L8.5 2.5l-.94 2.06-2.06.94zm10 10l.94 2.06.94-2.06 2.06-.94-2.06-.94-.94-2.06-.94 2.06-2.06.94z\"/><path d=\"M17.41 7.96l-1.37-1.37c-.4-.4-.92-.59-1.43-.59-.52 0-1.04.2-1.43.59L10.3 9.45l-7.72 7.72c-.78.78-.78 2.05 0 2.83L4 21.41c.39.39.9.59 1.41.59.51 0 1.02-.2 1.41-.59l7.78-7.78 2.81-2.81c.8-.78.8-2.07 0-2.86zM5.41 20L4 18.59l7.72-7.72 1.47 1.35L5.41 20z\"/>\n",
              "  </svg>\n",
              "      </button>\n",
              "      \n",
              "  <style>\n",
              "    .colab-df-container {\n",
              "      display:flex;\n",
              "      flex-wrap:wrap;\n",
              "      gap: 12px;\n",
              "    }\n",
              "\n",
              "    .colab-df-convert {\n",
              "      background-color: #E8F0FE;\n",
              "      border: none;\n",
              "      border-radius: 50%;\n",
              "      cursor: pointer;\n",
              "      display: none;\n",
              "      fill: #1967D2;\n",
              "      height: 32px;\n",
              "      padding: 0 0 0 0;\n",
              "      width: 32px;\n",
              "    }\n",
              "\n",
              "    .colab-df-convert:hover {\n",
              "      background-color: #E2EBFA;\n",
              "      box-shadow: 0px 1px 2px rgba(60, 64, 67, 0.3), 0px 1px 3px 1px rgba(60, 64, 67, 0.15);\n",
              "      fill: #174EA6;\n",
              "    }\n",
              "\n",
              "    [theme=dark] .colab-df-convert {\n",
              "      background-color: #3B4455;\n",
              "      fill: #D2E3FC;\n",
              "    }\n",
              "\n",
              "    [theme=dark] .colab-df-convert:hover {\n",
              "      background-color: #434B5C;\n",
              "      box-shadow: 0px 1px 3px 1px rgba(0, 0, 0, 0.15);\n",
              "      filter: drop-shadow(0px 1px 2px rgba(0, 0, 0, 0.3));\n",
              "      fill: #FFFFFF;\n",
              "    }\n",
              "  </style>\n",
              "\n",
              "      <script>\n",
              "        const buttonEl =\n",
              "          document.querySelector('#df-2d73586e-0b56-4256-9250-86f98a003bc7 button.colab-df-convert');\n",
              "        buttonEl.style.display =\n",
              "          google.colab.kernel.accessAllowed ? 'block' : 'none';\n",
              "\n",
              "        async function convertToInteractive(key) {\n",
              "          const element = document.querySelector('#df-2d73586e-0b56-4256-9250-86f98a003bc7');\n",
              "          const dataTable =\n",
              "            await google.colab.kernel.invokeFunction('convertToInteractive',\n",
              "                                                     [key], {});\n",
              "          if (!dataTable) return;\n",
              "\n",
              "          const docLinkHtml = 'Like what you see? Visit the ' +\n",
              "            '<a target=\"_blank\" href=https://colab.research.google.com/notebooks/data_table.ipynb>data table notebook</a>'\n",
              "            + ' to learn more about interactive tables.';\n",
              "          element.innerHTML = '';\n",
              "          dataTable['output_type'] = 'display_data';\n",
              "          await google.colab.output.renderOutput(dataTable, element);\n",
              "          const docLink = document.createElement('div');\n",
              "          docLink.innerHTML = docLinkHtml;\n",
              "          element.appendChild(docLink);\n",
              "        }\n",
              "      </script>\n",
              "    </div>\n",
              "  </div>\n",
              "  "
            ]
          },
          "metadata": {},
          "execution_count": 30
        }
      ]
    },
    {
      "cell_type": "code",
      "source": [
        "df_report = df_report.iloc[0:200, :]\n",
        "df_report.tail()"
      ],
      "metadata": {
        "colab": {
          "base_uri": "https://localhost:8080/",
          "height": 206
        },
        "id": "R_46pWSgMGwV",
        "outputId": "8fd90ca4-ccf2-4d5e-9884-7295a8826b81"
      },
      "execution_count": null,
      "outputs": [
        {
          "output_type": "execute_result",
          "data": {
            "text/plain": [
              "    class  precision    recall  f1-score  support\n",
              "195   195   0.666667  0.333333  0.444444     12.0\n",
              "196   196   0.625000  0.833333  0.714286     12.0\n",
              "197   197   0.833333  0.833333  0.833333     12.0\n",
              "198   198   1.000000  0.833333  0.909091     12.0\n",
              "199   199   0.750000  0.500000  0.600000     12.0"
            ],
            "text/html": [
              "\n",
              "  <div id=\"df-480f61d6-8295-4907-9fb2-c3ee205a5b25\">\n",
              "    <div class=\"colab-df-container\">\n",
              "      <div>\n",
              "<style scoped>\n",
              "    .dataframe tbody tr th:only-of-type {\n",
              "        vertical-align: middle;\n",
              "    }\n",
              "\n",
              "    .dataframe tbody tr th {\n",
              "        vertical-align: top;\n",
              "    }\n",
              "\n",
              "    .dataframe thead th {\n",
              "        text-align: right;\n",
              "    }\n",
              "</style>\n",
              "<table border=\"1\" class=\"dataframe\">\n",
              "  <thead>\n",
              "    <tr style=\"text-align: right;\">\n",
              "      <th></th>\n",
              "      <th>class</th>\n",
              "      <th>precision</th>\n",
              "      <th>recall</th>\n",
              "      <th>f1-score</th>\n",
              "      <th>support</th>\n",
              "    </tr>\n",
              "  </thead>\n",
              "  <tbody>\n",
              "    <tr>\n",
              "      <th>195</th>\n",
              "      <td>195</td>\n",
              "      <td>0.666667</td>\n",
              "      <td>0.333333</td>\n",
              "      <td>0.444444</td>\n",
              "      <td>12.0</td>\n",
              "    </tr>\n",
              "    <tr>\n",
              "      <th>196</th>\n",
              "      <td>196</td>\n",
              "      <td>0.625000</td>\n",
              "      <td>0.833333</td>\n",
              "      <td>0.714286</td>\n",
              "      <td>12.0</td>\n",
              "    </tr>\n",
              "    <tr>\n",
              "      <th>197</th>\n",
              "      <td>197</td>\n",
              "      <td>0.833333</td>\n",
              "      <td>0.833333</td>\n",
              "      <td>0.833333</td>\n",
              "      <td>12.0</td>\n",
              "    </tr>\n",
              "    <tr>\n",
              "      <th>198</th>\n",
              "      <td>198</td>\n",
              "      <td>1.000000</td>\n",
              "      <td>0.833333</td>\n",
              "      <td>0.909091</td>\n",
              "      <td>12.0</td>\n",
              "    </tr>\n",
              "    <tr>\n",
              "      <th>199</th>\n",
              "      <td>199</td>\n",
              "      <td>0.750000</td>\n",
              "      <td>0.500000</td>\n",
              "      <td>0.600000</td>\n",
              "      <td>12.0</td>\n",
              "    </tr>\n",
              "  </tbody>\n",
              "</table>\n",
              "</div>\n",
              "      <button class=\"colab-df-convert\" onclick=\"convertToInteractive('df-480f61d6-8295-4907-9fb2-c3ee205a5b25')\"\n",
              "              title=\"Convert this dataframe to an interactive table.\"\n",
              "              style=\"display:none;\">\n",
              "        \n",
              "  <svg xmlns=\"http://www.w3.org/2000/svg\" height=\"24px\"viewBox=\"0 0 24 24\"\n",
              "       width=\"24px\">\n",
              "    <path d=\"M0 0h24v24H0V0z\" fill=\"none\"/>\n",
              "    <path d=\"M18.56 5.44l.94 2.06.94-2.06 2.06-.94-2.06-.94-.94-2.06-.94 2.06-2.06.94zm-11 1L8.5 8.5l.94-2.06 2.06-.94-2.06-.94L8.5 2.5l-.94 2.06-2.06.94zm10 10l.94 2.06.94-2.06 2.06-.94-2.06-.94-.94-2.06-.94 2.06-2.06.94z\"/><path d=\"M17.41 7.96l-1.37-1.37c-.4-.4-.92-.59-1.43-.59-.52 0-1.04.2-1.43.59L10.3 9.45l-7.72 7.72c-.78.78-.78 2.05 0 2.83L4 21.41c.39.39.9.59 1.41.59.51 0 1.02-.2 1.41-.59l7.78-7.78 2.81-2.81c.8-.78.8-2.07 0-2.86zM5.41 20L4 18.59l7.72-7.72 1.47 1.35L5.41 20z\"/>\n",
              "  </svg>\n",
              "      </button>\n",
              "      \n",
              "  <style>\n",
              "    .colab-df-container {\n",
              "      display:flex;\n",
              "      flex-wrap:wrap;\n",
              "      gap: 12px;\n",
              "    }\n",
              "\n",
              "    .colab-df-convert {\n",
              "      background-color: #E8F0FE;\n",
              "      border: none;\n",
              "      border-radius: 50%;\n",
              "      cursor: pointer;\n",
              "      display: none;\n",
              "      fill: #1967D2;\n",
              "      height: 32px;\n",
              "      padding: 0 0 0 0;\n",
              "      width: 32px;\n",
              "    }\n",
              "\n",
              "    .colab-df-convert:hover {\n",
              "      background-color: #E2EBFA;\n",
              "      box-shadow: 0px 1px 2px rgba(60, 64, 67, 0.3), 0px 1px 3px 1px rgba(60, 64, 67, 0.15);\n",
              "      fill: #174EA6;\n",
              "    }\n",
              "\n",
              "    [theme=dark] .colab-df-convert {\n",
              "      background-color: #3B4455;\n",
              "      fill: #D2E3FC;\n",
              "    }\n",
              "\n",
              "    [theme=dark] .colab-df-convert:hover {\n",
              "      background-color: #434B5C;\n",
              "      box-shadow: 0px 1px 3px 1px rgba(0, 0, 0, 0.15);\n",
              "      filter: drop-shadow(0px 1px 2px rgba(0, 0, 0, 0.3));\n",
              "      fill: #FFFFFF;\n",
              "    }\n",
              "  </style>\n",
              "\n",
              "      <script>\n",
              "        const buttonEl =\n",
              "          document.querySelector('#df-480f61d6-8295-4907-9fb2-c3ee205a5b25 button.colab-df-convert');\n",
              "        buttonEl.style.display =\n",
              "          google.colab.kernel.accessAllowed ? 'block' : 'none';\n",
              "\n",
              "        async function convertToInteractive(key) {\n",
              "          const element = document.querySelector('#df-480f61d6-8295-4907-9fb2-c3ee205a5b25');\n",
              "          const dataTable =\n",
              "            await google.colab.kernel.invokeFunction('convertToInteractive',\n",
              "                                                     [key], {});\n",
              "          if (!dataTable) return;\n",
              "\n",
              "          const docLinkHtml = 'Like what you see? Visit the ' +\n",
              "            '<a target=\"_blank\" href=https://colab.research.google.com/notebooks/data_table.ipynb>data table notebook</a>'\n",
              "            + ' to learn more about interactive tables.';\n",
              "          element.innerHTML = '';\n",
              "          dataTable['output_type'] = 'display_data';\n",
              "          await google.colab.output.renderOutput(dataTable, element);\n",
              "          const docLink = document.createElement('div');\n",
              "          docLink.innerHTML = docLinkHtml;\n",
              "          element.appendChild(docLink);\n",
              "        }\n",
              "      </script>\n",
              "    </div>\n",
              "  </div>\n",
              "  "
            ]
          },
          "metadata": {},
          "execution_count": 35
        }
      ]
    },
    {
      "cell_type": "code",
      "source": [
        "label_map = (train_generator.class_indices)"
      ],
      "metadata": {
        "id": "3Q9R2hG21Wsq"
      },
      "execution_count": null,
      "outputs": []
    },
    {
      "cell_type": "code",
      "source": [
        "type(label_map)"
      ],
      "metadata": {
        "colab": {
          "base_uri": "https://localhost:8080/"
        },
        "id": "bryY07Y22HT5",
        "outputId": "ee64b769-febd-414c-c3ab-267879fcfa40"
      },
      "execution_count": null,
      "outputs": [
        {
          "output_type": "execute_result",
          "data": {
            "text/plain": [
              "dict"
            ]
          },
          "metadata": {},
          "execution_count": 35
        }
      ]
    },
    {
      "cell_type": "code",
      "source": [
        "species = label_map.keys()\n",
        "classes = label_map.values()"
      ],
      "metadata": {
        "id": "U7Fp3ENx2RGz"
      },
      "execution_count": null,
      "outputs": []
    },
    {
      "cell_type": "code",
      "source": [
        "df_labels = pd.DataFrame({\"species\": species,\n",
        "                          \"class\": classes})\n",
        "\n",
        "df_labels.head()"
      ],
      "metadata": {
        "colab": {
          "base_uri": "https://localhost:8080/",
          "height": 206
        },
        "id": "7vzzsZMV1WqW",
        "outputId": "a238e407-93c9-47c7-a01d-48e78e642a9f"
      },
      "execution_count": null,
      "outputs": [
        {
          "output_type": "execute_result",
          "data": {
            "text/plain": [
              "              species  class\n",
              "0  Acadian_Flycatcher      0\n",
              "1       American_Crow      1\n",
              "2  American_Goldfinch      2\n",
              "3      American_Pipit      3\n",
              "4   American_Redstart      4"
            ],
            "text/html": [
              "\n",
              "  <div id=\"df-3995dc99-3684-47d1-a3a4-f24a184d278b\">\n",
              "    <div class=\"colab-df-container\">\n",
              "      <div>\n",
              "<style scoped>\n",
              "    .dataframe tbody tr th:only-of-type {\n",
              "        vertical-align: middle;\n",
              "    }\n",
              "\n",
              "    .dataframe tbody tr th {\n",
              "        vertical-align: top;\n",
              "    }\n",
              "\n",
              "    .dataframe thead th {\n",
              "        text-align: right;\n",
              "    }\n",
              "</style>\n",
              "<table border=\"1\" class=\"dataframe\">\n",
              "  <thead>\n",
              "    <tr style=\"text-align: right;\">\n",
              "      <th></th>\n",
              "      <th>species</th>\n",
              "      <th>class</th>\n",
              "    </tr>\n",
              "  </thead>\n",
              "  <tbody>\n",
              "    <tr>\n",
              "      <th>0</th>\n",
              "      <td>Acadian_Flycatcher</td>\n",
              "      <td>0</td>\n",
              "    </tr>\n",
              "    <tr>\n",
              "      <th>1</th>\n",
              "      <td>American_Crow</td>\n",
              "      <td>1</td>\n",
              "    </tr>\n",
              "    <tr>\n",
              "      <th>2</th>\n",
              "      <td>American_Goldfinch</td>\n",
              "      <td>2</td>\n",
              "    </tr>\n",
              "    <tr>\n",
              "      <th>3</th>\n",
              "      <td>American_Pipit</td>\n",
              "      <td>3</td>\n",
              "    </tr>\n",
              "    <tr>\n",
              "      <th>4</th>\n",
              "      <td>American_Redstart</td>\n",
              "      <td>4</td>\n",
              "    </tr>\n",
              "  </tbody>\n",
              "</table>\n",
              "</div>\n",
              "      <button class=\"colab-df-convert\" onclick=\"convertToInteractive('df-3995dc99-3684-47d1-a3a4-f24a184d278b')\"\n",
              "              title=\"Convert this dataframe to an interactive table.\"\n",
              "              style=\"display:none;\">\n",
              "        \n",
              "  <svg xmlns=\"http://www.w3.org/2000/svg\" height=\"24px\"viewBox=\"0 0 24 24\"\n",
              "       width=\"24px\">\n",
              "    <path d=\"M0 0h24v24H0V0z\" fill=\"none\"/>\n",
              "    <path d=\"M18.56 5.44l.94 2.06.94-2.06 2.06-.94-2.06-.94-.94-2.06-.94 2.06-2.06.94zm-11 1L8.5 8.5l.94-2.06 2.06-.94-2.06-.94L8.5 2.5l-.94 2.06-2.06.94zm10 10l.94 2.06.94-2.06 2.06-.94-2.06-.94-.94-2.06-.94 2.06-2.06.94z\"/><path d=\"M17.41 7.96l-1.37-1.37c-.4-.4-.92-.59-1.43-.59-.52 0-1.04.2-1.43.59L10.3 9.45l-7.72 7.72c-.78.78-.78 2.05 0 2.83L4 21.41c.39.39.9.59 1.41.59.51 0 1.02-.2 1.41-.59l7.78-7.78 2.81-2.81c.8-.78.8-2.07 0-2.86zM5.41 20L4 18.59l7.72-7.72 1.47 1.35L5.41 20z\"/>\n",
              "  </svg>\n",
              "      </button>\n",
              "      \n",
              "  <style>\n",
              "    .colab-df-container {\n",
              "      display:flex;\n",
              "      flex-wrap:wrap;\n",
              "      gap: 12px;\n",
              "    }\n",
              "\n",
              "    .colab-df-convert {\n",
              "      background-color: #E8F0FE;\n",
              "      border: none;\n",
              "      border-radius: 50%;\n",
              "      cursor: pointer;\n",
              "      display: none;\n",
              "      fill: #1967D2;\n",
              "      height: 32px;\n",
              "      padding: 0 0 0 0;\n",
              "      width: 32px;\n",
              "    }\n",
              "\n",
              "    .colab-df-convert:hover {\n",
              "      background-color: #E2EBFA;\n",
              "      box-shadow: 0px 1px 2px rgba(60, 64, 67, 0.3), 0px 1px 3px 1px rgba(60, 64, 67, 0.15);\n",
              "      fill: #174EA6;\n",
              "    }\n",
              "\n",
              "    [theme=dark] .colab-df-convert {\n",
              "      background-color: #3B4455;\n",
              "      fill: #D2E3FC;\n",
              "    }\n",
              "\n",
              "    [theme=dark] .colab-df-convert:hover {\n",
              "      background-color: #434B5C;\n",
              "      box-shadow: 0px 1px 3px 1px rgba(0, 0, 0, 0.15);\n",
              "      filter: drop-shadow(0px 1px 2px rgba(0, 0, 0, 0.3));\n",
              "      fill: #FFFFFF;\n",
              "    }\n",
              "  </style>\n",
              "\n",
              "      <script>\n",
              "        const buttonEl =\n",
              "          document.querySelector('#df-3995dc99-3684-47d1-a3a4-f24a184d278b button.colab-df-convert');\n",
              "        buttonEl.style.display =\n",
              "          google.colab.kernel.accessAllowed ? 'block' : 'none';\n",
              "\n",
              "        async function convertToInteractive(key) {\n",
              "          const element = document.querySelector('#df-3995dc99-3684-47d1-a3a4-f24a184d278b');\n",
              "          const dataTable =\n",
              "            await google.colab.kernel.invokeFunction('convertToInteractive',\n",
              "                                                     [key], {});\n",
              "          if (!dataTable) return;\n",
              "\n",
              "          const docLinkHtml = 'Like what you see? Visit the ' +\n",
              "            '<a target=\"_blank\" href=https://colab.research.google.com/notebooks/data_table.ipynb>data table notebook</a>'\n",
              "            + ' to learn more about interactive tables.';\n",
              "          element.innerHTML = '';\n",
              "          dataTable['output_type'] = 'display_data';\n",
              "          await google.colab.output.renderOutput(dataTable, element);\n",
              "          const docLink = document.createElement('div');\n",
              "          docLink.innerHTML = docLinkHtml;\n",
              "          element.appendChild(docLink);\n",
              "        }\n",
              "      </script>\n",
              "    </div>\n",
              "  </div>\n",
              "  "
            ]
          },
          "metadata": {},
          "execution_count": 27
        }
      ]
    },
    {
      "cell_type": "code",
      "source": [
        "df_report[\"class\"] = df_report[\"class\"].astype(\"int\")\n",
        "df_labels[\"class\"] = df_labels[\"class\"].astype(\"int\")\n",
        "\n",
        "df_report = df_report.merge(df_labels, on=\"class\", how=\"left\")\n",
        "df_report.head()"
      ],
      "metadata": {
        "colab": {
          "base_uri": "https://localhost:8080/",
          "height": 206
        },
        "id": "VKJVp0rE2FQM",
        "outputId": "2edc1e6b-6e3a-4c31-8e82-00eda9119a2d"
      },
      "execution_count": null,
      "outputs": [
        {
          "output_type": "execute_result",
          "data": {
            "text/plain": [
              "   class  precision    recall  f1-score  support             species\n",
              "0      0   0.545455  0.500000  0.521739     12.0  Acadian_Flycatcher\n",
              "1      1   0.280000  0.583333  0.378378     12.0       American_Crow\n",
              "2      2   0.923077  1.000000  0.960000     12.0  American_Goldfinch\n",
              "3      3   0.857143  1.000000  0.923077     12.0      American_Pipit\n",
              "4      4   0.785714  0.916667  0.846154     12.0   American_Redstart"
            ],
            "text/html": [
              "\n",
              "  <div id=\"df-b4d9d449-f7bd-489d-8aa4-07dab85676e1\">\n",
              "    <div class=\"colab-df-container\">\n",
              "      <div>\n",
              "<style scoped>\n",
              "    .dataframe tbody tr th:only-of-type {\n",
              "        vertical-align: middle;\n",
              "    }\n",
              "\n",
              "    .dataframe tbody tr th {\n",
              "        vertical-align: top;\n",
              "    }\n",
              "\n",
              "    .dataframe thead th {\n",
              "        text-align: right;\n",
              "    }\n",
              "</style>\n",
              "<table border=\"1\" class=\"dataframe\">\n",
              "  <thead>\n",
              "    <tr style=\"text-align: right;\">\n",
              "      <th></th>\n",
              "      <th>class</th>\n",
              "      <th>precision</th>\n",
              "      <th>recall</th>\n",
              "      <th>f1-score</th>\n",
              "      <th>support</th>\n",
              "      <th>species</th>\n",
              "    </tr>\n",
              "  </thead>\n",
              "  <tbody>\n",
              "    <tr>\n",
              "      <th>0</th>\n",
              "      <td>0</td>\n",
              "      <td>0.545455</td>\n",
              "      <td>0.500000</td>\n",
              "      <td>0.521739</td>\n",
              "      <td>12.0</td>\n",
              "      <td>Acadian_Flycatcher</td>\n",
              "    </tr>\n",
              "    <tr>\n",
              "      <th>1</th>\n",
              "      <td>1</td>\n",
              "      <td>0.280000</td>\n",
              "      <td>0.583333</td>\n",
              "      <td>0.378378</td>\n",
              "      <td>12.0</td>\n",
              "      <td>American_Crow</td>\n",
              "    </tr>\n",
              "    <tr>\n",
              "      <th>2</th>\n",
              "      <td>2</td>\n",
              "      <td>0.923077</td>\n",
              "      <td>1.000000</td>\n",
              "      <td>0.960000</td>\n",
              "      <td>12.0</td>\n",
              "      <td>American_Goldfinch</td>\n",
              "    </tr>\n",
              "    <tr>\n",
              "      <th>3</th>\n",
              "      <td>3</td>\n",
              "      <td>0.857143</td>\n",
              "      <td>1.000000</td>\n",
              "      <td>0.923077</td>\n",
              "      <td>12.0</td>\n",
              "      <td>American_Pipit</td>\n",
              "    </tr>\n",
              "    <tr>\n",
              "      <th>4</th>\n",
              "      <td>4</td>\n",
              "      <td>0.785714</td>\n",
              "      <td>0.916667</td>\n",
              "      <td>0.846154</td>\n",
              "      <td>12.0</td>\n",
              "      <td>American_Redstart</td>\n",
              "    </tr>\n",
              "  </tbody>\n",
              "</table>\n",
              "</div>\n",
              "      <button class=\"colab-df-convert\" onclick=\"convertToInteractive('df-b4d9d449-f7bd-489d-8aa4-07dab85676e1')\"\n",
              "              title=\"Convert this dataframe to an interactive table.\"\n",
              "              style=\"display:none;\">\n",
              "        \n",
              "  <svg xmlns=\"http://www.w3.org/2000/svg\" height=\"24px\"viewBox=\"0 0 24 24\"\n",
              "       width=\"24px\">\n",
              "    <path d=\"M0 0h24v24H0V0z\" fill=\"none\"/>\n",
              "    <path d=\"M18.56 5.44l.94 2.06.94-2.06 2.06-.94-2.06-.94-.94-2.06-.94 2.06-2.06.94zm-11 1L8.5 8.5l.94-2.06 2.06-.94-2.06-.94L8.5 2.5l-.94 2.06-2.06.94zm10 10l.94 2.06.94-2.06 2.06-.94-2.06-.94-.94-2.06-.94 2.06-2.06.94z\"/><path d=\"M17.41 7.96l-1.37-1.37c-.4-.4-.92-.59-1.43-.59-.52 0-1.04.2-1.43.59L10.3 9.45l-7.72 7.72c-.78.78-.78 2.05 0 2.83L4 21.41c.39.39.9.59 1.41.59.51 0 1.02-.2 1.41-.59l7.78-7.78 2.81-2.81c.8-.78.8-2.07 0-2.86zM5.41 20L4 18.59l7.72-7.72 1.47 1.35L5.41 20z\"/>\n",
              "  </svg>\n",
              "      </button>\n",
              "      \n",
              "  <style>\n",
              "    .colab-df-container {\n",
              "      display:flex;\n",
              "      flex-wrap:wrap;\n",
              "      gap: 12px;\n",
              "    }\n",
              "\n",
              "    .colab-df-convert {\n",
              "      background-color: #E8F0FE;\n",
              "      border: none;\n",
              "      border-radius: 50%;\n",
              "      cursor: pointer;\n",
              "      display: none;\n",
              "      fill: #1967D2;\n",
              "      height: 32px;\n",
              "      padding: 0 0 0 0;\n",
              "      width: 32px;\n",
              "    }\n",
              "\n",
              "    .colab-df-convert:hover {\n",
              "      background-color: #E2EBFA;\n",
              "      box-shadow: 0px 1px 2px rgba(60, 64, 67, 0.3), 0px 1px 3px 1px rgba(60, 64, 67, 0.15);\n",
              "      fill: #174EA6;\n",
              "    }\n",
              "\n",
              "    [theme=dark] .colab-df-convert {\n",
              "      background-color: #3B4455;\n",
              "      fill: #D2E3FC;\n",
              "    }\n",
              "\n",
              "    [theme=dark] .colab-df-convert:hover {\n",
              "      background-color: #434B5C;\n",
              "      box-shadow: 0px 1px 3px 1px rgba(0, 0, 0, 0.15);\n",
              "      filter: drop-shadow(0px 1px 2px rgba(0, 0, 0, 0.3));\n",
              "      fill: #FFFFFF;\n",
              "    }\n",
              "  </style>\n",
              "\n",
              "      <script>\n",
              "        const buttonEl =\n",
              "          document.querySelector('#df-b4d9d449-f7bd-489d-8aa4-07dab85676e1 button.colab-df-convert');\n",
              "        buttonEl.style.display =\n",
              "          google.colab.kernel.accessAllowed ? 'block' : 'none';\n",
              "\n",
              "        async function convertToInteractive(key) {\n",
              "          const element = document.querySelector('#df-b4d9d449-f7bd-489d-8aa4-07dab85676e1');\n",
              "          const dataTable =\n",
              "            await google.colab.kernel.invokeFunction('convertToInteractive',\n",
              "                                                     [key], {});\n",
              "          if (!dataTable) return;\n",
              "\n",
              "          const docLinkHtml = 'Like what you see? Visit the ' +\n",
              "            '<a target=\"_blank\" href=https://colab.research.google.com/notebooks/data_table.ipynb>data table notebook</a>'\n",
              "            + ' to learn more about interactive tables.';\n",
              "          element.innerHTML = '';\n",
              "          dataTable['output_type'] = 'display_data';\n",
              "          await google.colab.output.renderOutput(dataTable, element);\n",
              "          const docLink = document.createElement('div');\n",
              "          docLink.innerHTML = docLinkHtml;\n",
              "          element.appendChild(docLink);\n",
              "        }\n",
              "      </script>\n",
              "    </div>\n",
              "  </div>\n",
              "  "
            ]
          },
          "metadata": {},
          "execution_count": 38
        }
      ]
    },
    {
      "cell_type": "code",
      "source": [
        "df_report.to_csv(\"report_effnetB1.csv\", index=False)"
      ],
      "metadata": {
        "id": "rz1Jzc6T28gB"
      },
      "execution_count": null,
      "outputs": []
    },
    {
      "cell_type": "code",
      "source": [
        "df_report_precision = df_report.sort_values(by=\"precision\", ascending=True)\n",
        "df_report_precision.head()"
      ],
      "metadata": {
        "colab": {
          "base_uri": "https://localhost:8080/",
          "height": 206
        },
        "id": "JAfEISOd2FMT",
        "outputId": "4734a35e-1a74-4c4d-cf54-8398d8f0b58f"
      },
      "execution_count": null,
      "outputs": [
        {
          "output_type": "execute_result",
          "data": {
            "text/plain": [
              "     class  precision    recall  f1-score  support            species\n",
              "64      64   0.200000  0.083333  0.117647     12.0          Fish_Crow\n",
              "53      53   0.214286  0.250000  0.230769     12.0        Common_Tern\n",
              "172    172   0.250000  0.166667  0.200000     12.0  Tennessee_Warbler\n",
              "87      87   0.266667  0.333333  0.296296     12.0       Herring_Gull\n",
              "1        1   0.280000  0.583333  0.378378     12.0      American_Crow"
            ],
            "text/html": [
              "\n",
              "  <div id=\"df-329f5ac2-e43a-4f5c-98bc-c5f0dea6c161\">\n",
              "    <div class=\"colab-df-container\">\n",
              "      <div>\n",
              "<style scoped>\n",
              "    .dataframe tbody tr th:only-of-type {\n",
              "        vertical-align: middle;\n",
              "    }\n",
              "\n",
              "    .dataframe tbody tr th {\n",
              "        vertical-align: top;\n",
              "    }\n",
              "\n",
              "    .dataframe thead th {\n",
              "        text-align: right;\n",
              "    }\n",
              "</style>\n",
              "<table border=\"1\" class=\"dataframe\">\n",
              "  <thead>\n",
              "    <tr style=\"text-align: right;\">\n",
              "      <th></th>\n",
              "      <th>class</th>\n",
              "      <th>precision</th>\n",
              "      <th>recall</th>\n",
              "      <th>f1-score</th>\n",
              "      <th>support</th>\n",
              "      <th>species</th>\n",
              "    </tr>\n",
              "  </thead>\n",
              "  <tbody>\n",
              "    <tr>\n",
              "      <th>64</th>\n",
              "      <td>64</td>\n",
              "      <td>0.200000</td>\n",
              "      <td>0.083333</td>\n",
              "      <td>0.117647</td>\n",
              "      <td>12.0</td>\n",
              "      <td>Fish_Crow</td>\n",
              "    </tr>\n",
              "    <tr>\n",
              "      <th>53</th>\n",
              "      <td>53</td>\n",
              "      <td>0.214286</td>\n",
              "      <td>0.250000</td>\n",
              "      <td>0.230769</td>\n",
              "      <td>12.0</td>\n",
              "      <td>Common_Tern</td>\n",
              "    </tr>\n",
              "    <tr>\n",
              "      <th>172</th>\n",
              "      <td>172</td>\n",
              "      <td>0.250000</td>\n",
              "      <td>0.166667</td>\n",
              "      <td>0.200000</td>\n",
              "      <td>12.0</td>\n",
              "      <td>Tennessee_Warbler</td>\n",
              "    </tr>\n",
              "    <tr>\n",
              "      <th>87</th>\n",
              "      <td>87</td>\n",
              "      <td>0.266667</td>\n",
              "      <td>0.333333</td>\n",
              "      <td>0.296296</td>\n",
              "      <td>12.0</td>\n",
              "      <td>Herring_Gull</td>\n",
              "    </tr>\n",
              "    <tr>\n",
              "      <th>1</th>\n",
              "      <td>1</td>\n",
              "      <td>0.280000</td>\n",
              "      <td>0.583333</td>\n",
              "      <td>0.378378</td>\n",
              "      <td>12.0</td>\n",
              "      <td>American_Crow</td>\n",
              "    </tr>\n",
              "  </tbody>\n",
              "</table>\n",
              "</div>\n",
              "      <button class=\"colab-df-convert\" onclick=\"convertToInteractive('df-329f5ac2-e43a-4f5c-98bc-c5f0dea6c161')\"\n",
              "              title=\"Convert this dataframe to an interactive table.\"\n",
              "              style=\"display:none;\">\n",
              "        \n",
              "  <svg xmlns=\"http://www.w3.org/2000/svg\" height=\"24px\"viewBox=\"0 0 24 24\"\n",
              "       width=\"24px\">\n",
              "    <path d=\"M0 0h24v24H0V0z\" fill=\"none\"/>\n",
              "    <path d=\"M18.56 5.44l.94 2.06.94-2.06 2.06-.94-2.06-.94-.94-2.06-.94 2.06-2.06.94zm-11 1L8.5 8.5l.94-2.06 2.06-.94-2.06-.94L8.5 2.5l-.94 2.06-2.06.94zm10 10l.94 2.06.94-2.06 2.06-.94-2.06-.94-.94-2.06-.94 2.06-2.06.94z\"/><path d=\"M17.41 7.96l-1.37-1.37c-.4-.4-.92-.59-1.43-.59-.52 0-1.04.2-1.43.59L10.3 9.45l-7.72 7.72c-.78.78-.78 2.05 0 2.83L4 21.41c.39.39.9.59 1.41.59.51 0 1.02-.2 1.41-.59l7.78-7.78 2.81-2.81c.8-.78.8-2.07 0-2.86zM5.41 20L4 18.59l7.72-7.72 1.47 1.35L5.41 20z\"/>\n",
              "  </svg>\n",
              "      </button>\n",
              "      \n",
              "  <style>\n",
              "    .colab-df-container {\n",
              "      display:flex;\n",
              "      flex-wrap:wrap;\n",
              "      gap: 12px;\n",
              "    }\n",
              "\n",
              "    .colab-df-convert {\n",
              "      background-color: #E8F0FE;\n",
              "      border: none;\n",
              "      border-radius: 50%;\n",
              "      cursor: pointer;\n",
              "      display: none;\n",
              "      fill: #1967D2;\n",
              "      height: 32px;\n",
              "      padding: 0 0 0 0;\n",
              "      width: 32px;\n",
              "    }\n",
              "\n",
              "    .colab-df-convert:hover {\n",
              "      background-color: #E2EBFA;\n",
              "      box-shadow: 0px 1px 2px rgba(60, 64, 67, 0.3), 0px 1px 3px 1px rgba(60, 64, 67, 0.15);\n",
              "      fill: #174EA6;\n",
              "    }\n",
              "\n",
              "    [theme=dark] .colab-df-convert {\n",
              "      background-color: #3B4455;\n",
              "      fill: #D2E3FC;\n",
              "    }\n",
              "\n",
              "    [theme=dark] .colab-df-convert:hover {\n",
              "      background-color: #434B5C;\n",
              "      box-shadow: 0px 1px 3px 1px rgba(0, 0, 0, 0.15);\n",
              "      filter: drop-shadow(0px 1px 2px rgba(0, 0, 0, 0.3));\n",
              "      fill: #FFFFFF;\n",
              "    }\n",
              "  </style>\n",
              "\n",
              "      <script>\n",
              "        const buttonEl =\n",
              "          document.querySelector('#df-329f5ac2-e43a-4f5c-98bc-c5f0dea6c161 button.colab-df-convert');\n",
              "        buttonEl.style.display =\n",
              "          google.colab.kernel.accessAllowed ? 'block' : 'none';\n",
              "\n",
              "        async function convertToInteractive(key) {\n",
              "          const element = document.querySelector('#df-329f5ac2-e43a-4f5c-98bc-c5f0dea6c161');\n",
              "          const dataTable =\n",
              "            await google.colab.kernel.invokeFunction('convertToInteractive',\n",
              "                                                     [key], {});\n",
              "          if (!dataTable) return;\n",
              "\n",
              "          const docLinkHtml = 'Like what you see? Visit the ' +\n",
              "            '<a target=\"_blank\" href=https://colab.research.google.com/notebooks/data_table.ipynb>data table notebook</a>'\n",
              "            + ' to learn more about interactive tables.';\n",
              "          element.innerHTML = '';\n",
              "          dataTable['output_type'] = 'display_data';\n",
              "          await google.colab.output.renderOutput(dataTable, element);\n",
              "          const docLink = document.createElement('div');\n",
              "          docLink.innerHTML = docLinkHtml;\n",
              "          element.appendChild(docLink);\n",
              "        }\n",
              "      </script>\n",
              "    </div>\n",
              "  </div>\n",
              "  "
            ]
          },
          "metadata": {},
          "execution_count": 39
        }
      ]
    },
    {
      "cell_type": "code",
      "source": [
        "df_report_recall = df_report.sort_values(by=\"recall\", ascending=True)\n",
        "df_report_recall.head()"
      ],
      "metadata": {
        "colab": {
          "base_uri": "https://localhost:8080/",
          "height": 206
        },
        "id": "YuwbHvZM2FIa",
        "outputId": "b15acae4-29b9-4989-ee3d-ef1a3b5a95c5"
      },
      "execution_count": null,
      "outputs": [
        {
          "output_type": "execute_result",
          "data": {
            "text/plain": [
              "     class  precision    recall  f1-score  support            species\n",
              "64      64   0.200000  0.083333  0.117647     12.0          Fish_Crow\n",
              "172    172   0.250000  0.166667  0.200000     12.0  Tennessee_Warbler\n",
              "53      53   0.214286  0.250000  0.230769     12.0        Common_Tern\n",
              "66      66   0.600000  0.250000  0.352941     12.0      Forsters_Tern\n",
              "113    113   0.444444  0.333333  0.380952     12.0        Mockingbird"
            ],
            "text/html": [
              "\n",
              "  <div id=\"df-e374c0f4-4570-4f37-9516-1980a974c21b\">\n",
              "    <div class=\"colab-df-container\">\n",
              "      <div>\n",
              "<style scoped>\n",
              "    .dataframe tbody tr th:only-of-type {\n",
              "        vertical-align: middle;\n",
              "    }\n",
              "\n",
              "    .dataframe tbody tr th {\n",
              "        vertical-align: top;\n",
              "    }\n",
              "\n",
              "    .dataframe thead th {\n",
              "        text-align: right;\n",
              "    }\n",
              "</style>\n",
              "<table border=\"1\" class=\"dataframe\">\n",
              "  <thead>\n",
              "    <tr style=\"text-align: right;\">\n",
              "      <th></th>\n",
              "      <th>class</th>\n",
              "      <th>precision</th>\n",
              "      <th>recall</th>\n",
              "      <th>f1-score</th>\n",
              "      <th>support</th>\n",
              "      <th>species</th>\n",
              "    </tr>\n",
              "  </thead>\n",
              "  <tbody>\n",
              "    <tr>\n",
              "      <th>64</th>\n",
              "      <td>64</td>\n",
              "      <td>0.200000</td>\n",
              "      <td>0.083333</td>\n",
              "      <td>0.117647</td>\n",
              "      <td>12.0</td>\n",
              "      <td>Fish_Crow</td>\n",
              "    </tr>\n",
              "    <tr>\n",
              "      <th>172</th>\n",
              "      <td>172</td>\n",
              "      <td>0.250000</td>\n",
              "      <td>0.166667</td>\n",
              "      <td>0.200000</td>\n",
              "      <td>12.0</td>\n",
              "      <td>Tennessee_Warbler</td>\n",
              "    </tr>\n",
              "    <tr>\n",
              "      <th>53</th>\n",
              "      <td>53</td>\n",
              "      <td>0.214286</td>\n",
              "      <td>0.250000</td>\n",
              "      <td>0.230769</td>\n",
              "      <td>12.0</td>\n",
              "      <td>Common_Tern</td>\n",
              "    </tr>\n",
              "    <tr>\n",
              "      <th>66</th>\n",
              "      <td>66</td>\n",
              "      <td>0.600000</td>\n",
              "      <td>0.250000</td>\n",
              "      <td>0.352941</td>\n",
              "      <td>12.0</td>\n",
              "      <td>Forsters_Tern</td>\n",
              "    </tr>\n",
              "    <tr>\n",
              "      <th>113</th>\n",
              "      <td>113</td>\n",
              "      <td>0.444444</td>\n",
              "      <td>0.333333</td>\n",
              "      <td>0.380952</td>\n",
              "      <td>12.0</td>\n",
              "      <td>Mockingbird</td>\n",
              "    </tr>\n",
              "  </tbody>\n",
              "</table>\n",
              "</div>\n",
              "      <button class=\"colab-df-convert\" onclick=\"convertToInteractive('df-e374c0f4-4570-4f37-9516-1980a974c21b')\"\n",
              "              title=\"Convert this dataframe to an interactive table.\"\n",
              "              style=\"display:none;\">\n",
              "        \n",
              "  <svg xmlns=\"http://www.w3.org/2000/svg\" height=\"24px\"viewBox=\"0 0 24 24\"\n",
              "       width=\"24px\">\n",
              "    <path d=\"M0 0h24v24H0V0z\" fill=\"none\"/>\n",
              "    <path d=\"M18.56 5.44l.94 2.06.94-2.06 2.06-.94-2.06-.94-.94-2.06-.94 2.06-2.06.94zm-11 1L8.5 8.5l.94-2.06 2.06-.94-2.06-.94L8.5 2.5l-.94 2.06-2.06.94zm10 10l.94 2.06.94-2.06 2.06-.94-2.06-.94-.94-2.06-.94 2.06-2.06.94z\"/><path d=\"M17.41 7.96l-1.37-1.37c-.4-.4-.92-.59-1.43-.59-.52 0-1.04.2-1.43.59L10.3 9.45l-7.72 7.72c-.78.78-.78 2.05 0 2.83L4 21.41c.39.39.9.59 1.41.59.51 0 1.02-.2 1.41-.59l7.78-7.78 2.81-2.81c.8-.78.8-2.07 0-2.86zM5.41 20L4 18.59l7.72-7.72 1.47 1.35L5.41 20z\"/>\n",
              "  </svg>\n",
              "      </button>\n",
              "      \n",
              "  <style>\n",
              "    .colab-df-container {\n",
              "      display:flex;\n",
              "      flex-wrap:wrap;\n",
              "      gap: 12px;\n",
              "    }\n",
              "\n",
              "    .colab-df-convert {\n",
              "      background-color: #E8F0FE;\n",
              "      border: none;\n",
              "      border-radius: 50%;\n",
              "      cursor: pointer;\n",
              "      display: none;\n",
              "      fill: #1967D2;\n",
              "      height: 32px;\n",
              "      padding: 0 0 0 0;\n",
              "      width: 32px;\n",
              "    }\n",
              "\n",
              "    .colab-df-convert:hover {\n",
              "      background-color: #E2EBFA;\n",
              "      box-shadow: 0px 1px 2px rgba(60, 64, 67, 0.3), 0px 1px 3px 1px rgba(60, 64, 67, 0.15);\n",
              "      fill: #174EA6;\n",
              "    }\n",
              "\n",
              "    [theme=dark] .colab-df-convert {\n",
              "      background-color: #3B4455;\n",
              "      fill: #D2E3FC;\n",
              "    }\n",
              "\n",
              "    [theme=dark] .colab-df-convert:hover {\n",
              "      background-color: #434B5C;\n",
              "      box-shadow: 0px 1px 3px 1px rgba(0, 0, 0, 0.15);\n",
              "      filter: drop-shadow(0px 1px 2px rgba(0, 0, 0, 0.3));\n",
              "      fill: #FFFFFF;\n",
              "    }\n",
              "  </style>\n",
              "\n",
              "      <script>\n",
              "        const buttonEl =\n",
              "          document.querySelector('#df-e374c0f4-4570-4f37-9516-1980a974c21b button.colab-df-convert');\n",
              "        buttonEl.style.display =\n",
              "          google.colab.kernel.accessAllowed ? 'block' : 'none';\n",
              "\n",
              "        async function convertToInteractive(key) {\n",
              "          const element = document.querySelector('#df-e374c0f4-4570-4f37-9516-1980a974c21b');\n",
              "          const dataTable =\n",
              "            await google.colab.kernel.invokeFunction('convertToInteractive',\n",
              "                                                     [key], {});\n",
              "          if (!dataTable) return;\n",
              "\n",
              "          const docLinkHtml = 'Like what you see? Visit the ' +\n",
              "            '<a target=\"_blank\" href=https://colab.research.google.com/notebooks/data_table.ipynb>data table notebook</a>'\n",
              "            + ' to learn more about interactive tables.';\n",
              "          element.innerHTML = '';\n",
              "          dataTable['output_type'] = 'display_data';\n",
              "          await google.colab.output.renderOutput(dataTable, element);\n",
              "          const docLink = document.createElement('div');\n",
              "          docLink.innerHTML = docLinkHtml;\n",
              "          element.appendChild(docLink);\n",
              "        }\n",
              "      </script>\n",
              "    </div>\n",
              "  </div>\n",
              "  "
            ]
          },
          "metadata": {},
          "execution_count": 40
        }
      ]
    },
    {
      "cell_type": "markdown",
      "metadata": {
        "id": "fFf0OUpFmDoN"
      },
      "source": [
        "# Interpretabilidade\n",
        "\n",
        "### GRAD-CAM"
      ]
    },
    {
      "cell_type": "code",
      "execution_count": null,
      "metadata": {
        "id": "AuHoZKqJoUO6"
      },
      "outputs": [],
      "source": [
        "def get_img_array(img_path, size):\n",
        "    '''\n",
        "    Transforma a imagem em um tensor!\n",
        "    ARGS:\n",
        "    img_path <- string contendo o caminho da imagem\n",
        "    size <- tupla com dois inteiros\n",
        "    RETURN:\n",
        "    array <- np.array\n",
        "    '''\n",
        "    img = keras.preprocessing.image.load_img(img_path, target_size=size)\n",
        "    array = keras.preprocessing.image.img_to_array(img)\n",
        "    array = np.expand_dims(array, axis=0)\n",
        "    return array\n",
        "\n",
        "\n",
        "def make_gradcam_heatmap(img_array, model, last_conv_layer_name, pred_index=None):\n",
        "    '''\n",
        "    img_array <- np.array da imagem\n",
        "    model <- objeto do modelo\n",
        "    last_conv_layer_name <- nome da ultima layer de convolução (str)\n",
        "    pred_index <- int - index da predição\n",
        "    '''\n",
        "    # Primeiro, criamos um modelo que mapeia a imagem de entrada para as ativações\n",
        "    # da última camada de convolução, bem como as previsões de saída.\n",
        "    grad_model = tf.keras.models.Model(\n",
        "        [model.inputs], [model.get_layer(last_conv_layer_name).output, model.output]\n",
        "    )\n",
        "\n",
        "\n",
        "    # Em seguida, calculamos o gradiente da classe predita (com maior probabildiade)\n",
        "    # para nossa imagem de entrada com relação às ativações da última camada de convolução\n",
        "    with tf.GradientTape() as tape:\n",
        "        last_conv_layer_output, preds = grad_model(img_array)\n",
        "        if pred_index is None:\n",
        "            pred_index = tf.argmax(preds[0])\n",
        "        class_channel = preds[:, pred_index]\n",
        "\n",
        "    # Gradiente do output do neurônio de saida em relação ao mapa de feature da ultima\n",
        "    #camada de convolução\n",
        "    grads = tape.gradient(class_channel, last_conv_layer_output)\n",
        "\n",
        "    # Vetor para cada entrada é a média da intensidade do gradiente\n",
        "    # em relação ao mapa de feature\n",
        "    pooled_grads = tf.reduce_mean(grads, axis=(0, 1, 2))\n",
        "\n",
        "\n",
        "    # Multiplicamos cada canal na matriz do mapa de features\n",
        "    # pelo gradiente (importância do canal) em relação à classe predita com maior probabilidade\n",
        "    # então soma-se os canais para obter a ativação da classe do mapa de calor\n",
        "    last_conv_layer_output = last_conv_layer_output[0]\n",
        "    heatmap = last_conv_layer_output @ pooled_grads[..., tf.newaxis]\n",
        "    heatmap = tf.squeeze(heatmap)\n",
        "\n",
        "    # Normalizando entre 0 e 1\n",
        "    heatmap = tf.maximum(heatmap, 0) / tf.math.reduce_max(heatmap)\n",
        "    return heatmap.numpy()"
      ]
    },
    {
      "cell_type": "code",
      "execution_count": null,
      "metadata": {
        "id": "1sAzgnXqoUM-"
      },
      "outputs": [],
      "source": [
        "def save_and_display_gradcam(img_path, heatmap, cam_path=\"cam.jpg\", alpha=0.4):\n",
        "    '''\n",
        "    Salva e realiza a exibição do gradiente em relação a imagem (sobreposição)\n",
        "    ARGS:\n",
        "    img_path <- caminho da imagem (str)\n",
        "    heatmap <- mapa de calor numpy (np.array)\n",
        "    cam_path < argumento para salvar a imagem\n",
        "    alpha = ajuste de transparência\n",
        "    RETURN:\n",
        "    imagem sobreposta(apenas display)\n",
        "    '''\n",
        "\n",
        "    # imagem original\n",
        "    img = keras.preprocessing.image.load_img(img_path)\n",
        "    img = keras.preprocessing.image.img_to_array(img)\n",
        "\n",
        "    # rescalando a imagem entre até 255\n",
        "    heatmap = np.uint8(255 * heatmap)\n",
        "\n",
        "    # jet para colorizar o \"gradiente\"\n",
        "    jet = cm.get_cmap(\"jet\")\n",
        "\n",
        "    # usando os valores RGB do heatmap\n",
        "    jet_colors = jet(np.arange(256))[:, :3]\n",
        "    jet_heatmap = jet_colors[heatmap]\n",
        "\n",
        "    # Criando uma imagem com RGB colorido com o heatmap\n",
        "    jet_heatmap = keras.preprocessing.image.array_to_img(jet_heatmap)\n",
        "    jet_heatmap = jet_heatmap.resize((img.shape[1], img.shape[0]))\n",
        "    jet_heatmap = keras.preprocessing.image.img_to_array(jet_heatmap)\n",
        "\n",
        "    # Sobreposição das imagens\n",
        "    superimposed_img = jet_heatmap * alpha + img\n",
        "    superimposed_img = keras.preprocessing.image.array_to_img(superimposed_img)\n",
        "\n",
        "    # Salvando a imagem para realizar o display\n",
        "    superimposed_img.save(cam_path)\n",
        "\n",
        "    # Display\n",
        "    display(display_image(cam_path))\n",
        "    # Excluí a imagem do caminho salvo\n",
        "    os.remove(cam_path)"
      ]
    },
    {
      "cell_type": "code",
      "source": [
        "species = list(species)"
      ],
      "metadata": {
        "id": "pEjur9343_o8"
      },
      "execution_count": null,
      "outputs": []
    },
    {
      "cell_type": "code",
      "execution_count": null,
      "metadata": {
        "id": "0tvSIeltoULL",
        "colab": {
          "base_uri": "https://localhost:8080/"
        },
        "outputId": "f9df1a8e-342b-4c41-c631-13523d113e7c"
      },
      "outputs": [
        {
          "output_type": "stream",
          "name": "stdout",
          "text": [
            "1/1 [==============================] - 0s 26ms/step\n",
            "Classe predita:  Common_Raven\n",
            "probabilidade da predição 50.135213136672974\n"
          ]
        }
      ],
      "source": [
        "#fazendo download de uma imagem e armazenando.\n",
        "img_path = \"/content/Test/Fish_Crow/Fish_Crow_0017_26127.jpg\"\n",
        "\n",
        "# display(display_image(img_path))\n",
        "\n",
        "# preparando imagem\n",
        "img_array = preprocess_input(get_img_array(img_path, size=(300,300)))\n",
        "\n",
        "# predição\n",
        "pred = frozen_model.predict(img_array)\n",
        "print('Classe predita: ', species[np.argmax(pred)])\n",
        "print('probabilidade da predição', pred[0][np.argmax(pred)] * 100)"
      ]
    },
    {
      "cell_type": "code",
      "execution_count": null,
      "metadata": {
        "id": "g2Q3SeD1oUJF",
        "colab": {
          "base_uri": "https://localhost:8080/",
          "height": 517
        },
        "outputId": "7be9b4c9-8c6d-4439-b7c1-84d63d49ea97"
      },
      "outputs": [
        {
          "output_type": "display_data",
          "data": {
            "image/jpeg": "[encoded data removed]",
            "text/plain": [
              "<IPython.core.display.Image object>"
            ]
          },
          "metadata": {}
        }
      ],
      "source": [
        "#extraindo o mapa de features (\"calor\") e sobrepondo a imagem original.\n",
        "heatmap = make_gradcam_heatmap(img_array, frozen_model, 'top_conv', pred_index=np.argmax(pred))\n",
        "save_and_display_gradcam(img_path, heatmap)"
      ]
    },
    {
      "cell_type": "code",
      "execution_count": null,
      "metadata": {
        "id": "2Qlvt_eEoUER",
        "colab": {
          "base_uri": "https://localhost:8080/"
        },
        "outputId": "7903d7ed-8d4c-49dc-e4b6-3bf70ffacef3"
      },
      "outputs": [
        {
          "output_type": "stream",
          "name": "stdout",
          "text": [
            "1/1 [==============================] - 0s 28ms/step\n",
            "Classe predita:  Common_Raven\n",
            "probabilidade da predição 64.93017673492432\n"
          ]
        }
      ],
      "source": [
        "#fazendo download de uma imagem e armazenando.\n",
        "img_path = \"/content/Test/Fish_Crow/Fish_Crow_0031_25909.jpg\"\n",
        "\n",
        "# display(display_image(img_path))\n",
        "\n",
        "# preparando imagem\n",
        "img_array = preprocess_input(get_img_array(img_path, size=(300,300)))\n",
        "\n",
        "# predição\n",
        "pred = frozen_model.predict(img_array)\n",
        "print('Classe predita: ', species[np.argmax(pred)])\n",
        "print('probabilidade da predição', pred[0][np.argmax(pred)] * 100)"
      ]
    },
    {
      "cell_type": "code",
      "execution_count": null,
      "metadata": {
        "id": "sqgNcz8JoUCL",
        "colab": {
          "base_uri": "https://localhost:8080/",
          "height": 350
        },
        "outputId": "a2ad980b-afdf-4238-8acf-c9694c704aa8"
      },
      "outputs": [
        {
          "output_type": "display_data",
          "data": {
            "image/jpeg": "[encoded data removed]",
            "text/plain": [
              "<IPython.core.display.Image object>"
            ]
          },
          "metadata": {}
        }
      ],
      "source": [
        "#extraindo o mapa de features (\"calor\") e sobrepondo a imagem original.\n",
        "heatmap = make_gradcam_heatmap(img_array, frozen_model, 'top_conv', pred_index=np.argmax(pred))\n",
        "save_and_display_gradcam(img_path, heatmap)"
      ]
    },
    {
      "cell_type": "code",
      "execution_count": null,
      "metadata": {
        "id": "qzbNEQGroUAB",
        "colab": {
          "base_uri": "https://localhost:8080/"
        },
        "outputId": "1c374abf-8ab3-4390-803d-b8b8d85a10b7"
      },
      "outputs": [
        {
          "output_type": "stream",
          "name": "stdout",
          "text": [
            "1/1 [==============================] - 0s 27ms/step\n",
            "Classe predita:  American_Crow\n",
            "probabilidade da predição 28.49760353565216\n"
          ]
        }
      ],
      "source": [
        "#fazendo download de uma imagem e armazenando.\n",
        "img_path = \"/content/Test/Fish_Crow/Fish_Crow_0049_26040.jpg\"\n",
        "\n",
        "# display(display_image(img_path))\n",
        "\n",
        "# preparando imagem\n",
        "img_array = preprocess_input(get_img_array(img_path, size=(300,300)))\n",
        "\n",
        "# predição\n",
        "pred = frozen_model.predict(img_array)\n",
        "print('Classe predita: ', species[np.argmax(pred)])\n",
        "print('probabilidade da predição', pred[0][np.argmax(pred)] * 100)"
      ]
    },
    {
      "cell_type": "code",
      "execution_count": null,
      "metadata": {
        "id": "WZWRZ4C7oT9x",
        "colab": {
          "base_uri": "https://localhost:8080/",
          "height": 392
        },
        "outputId": "55894d0e-5555-491e-d3a6-490e742213ca"
      },
      "outputs": [
        {
          "output_type": "display_data",
          "data": {
            "image/jpeg": "[encoded data removed]",
            "text/plain": [
              "<IPython.core.display.Image object>"
            ]
          },
          "metadata": {}
        }
      ],
      "source": [
        "#extraindo o mapa de features (\"calor\") e sobrepondo a imagem original.\n",
        "heatmap = make_gradcam_heatmap(img_array, frozen_model, 'top_conv', pred_index=np.argmax(pred))\n",
        "save_and_display_gradcam(img_path, heatmap)"
      ]
    },
    {
      "cell_type": "code",
      "execution_count": null,
      "metadata": {
        "id": "4P4NEV6FoT7X",
        "colab": {
          "base_uri": "https://localhost:8080/"
        },
        "outputId": "b53d91e8-aa60-4dcf-d3b6-e2440141b3b2"
      },
      "outputs": [
        {
          "output_type": "stream",
          "name": "stdout",
          "text": [
            "1/1 [==============================] - 0s 27ms/step\n",
            "Classe predita:  American_Crow\n",
            "probabilidade da predição 53.80864143371582\n"
          ]
        }
      ],
      "source": [
        "#fazendo download de uma imagem e armazenando.\n",
        "img_path = \"/content/Test/Common_Raven/Common_Raven_0017_102044.jpg\"\n",
        "\n",
        "# display(display_image(img_path))\n",
        "\n",
        "# preparando imagem\n",
        "img_array = preprocess_input(get_img_array(img_path, size=(300,300)))\n",
        "\n",
        "# predição\n",
        "pred = frozen_model.predict(img_array)\n",
        "print('Classe predita: ', species[np.argmax(pred)])\n",
        "print('probabilidade da predição', pred[0][np.argmax(pred)] * 100)"
      ]
    },
    {
      "cell_type": "code",
      "execution_count": null,
      "metadata": {
        "id": "BQz4YMo5oT5A",
        "colab": {
          "base_uri": "https://localhost:8080/",
          "height": 392
        },
        "outputId": "337576cd-c208-4dce-9158-13b7afa437e6"
      },
      "outputs": [
        {
          "output_type": "display_data",
          "data": {
            "image/jpeg": "[encoded data removed]",
            "text/plain": [
              "<IPython.core.display.Image object>"
            ]
          },
          "metadata": {}
        }
      ],
      "source": [
        "#extraindo o mapa de features (\"calor\") e sobrepondo a imagem original.\n",
        "heatmap = make_gradcam_heatmap(img_array, frozen_model, 'top_conv', pred_index=np.argmax(pred))\n",
        "save_and_display_gradcam(img_path, heatmap)"
      ]
    },
    {
      "cell_type": "code",
      "execution_count": null,
      "metadata": {
        "id": "VbCCUPgvoT0o",
        "colab": {
          "base_uri": "https://localhost:8080/"
        },
        "outputId": "c0cdd4bf-df55-41d7-a957-b4e92df224c9"
      },
      "outputs": [
        {
          "output_type": "stream",
          "name": "stdout",
          "text": [
            "1/1 [==============================] - 0s 26ms/step\n",
            "Classe predita:  Common_Raven\n",
            "probabilidade da predição 66.0132110118866\n"
          ]
        }
      ],
      "source": [
        "#fazendo download de uma imagem e armazenando.\n",
        "img_path = \"/content/Test/Common_Raven/Common_Raven_0036_102025.jpg\"\n",
        "\n",
        "# display(display_image(img_path))\n",
        "\n",
        "# preparando imagem\n",
        "img_array = preprocess_input(get_img_array(img_path, size=(300,300)))\n",
        "\n",
        "# predição\n",
        "pred = frozen_model.predict(img_array)\n",
        "print('Classe predita: ', species[np.argmax(pred)])\n",
        "print('probabilidade da predição', pred[0][np.argmax(pred)] * 100)"
      ]
    },
    {
      "cell_type": "code",
      "execution_count": null,
      "metadata": {
        "id": "KosPeYlloTv5",
        "colab": {
          "base_uri": "https://localhost:8080/",
          "height": 350
        },
        "outputId": "ae8d8e78-3889-4f59-f619-d329723fdf18"
      },
      "outputs": [
        {
          "output_type": "display_data",
          "data": {
            "image/jpeg": "[encoded data removed]",
            "text/plain": [
              "<IPython.core.display.Image object>"
            ]
          },
          "metadata": {}
        }
      ],
      "source": [
        "#extraindo o mapa de features (\"calor\") e sobrepondo a imagem original.\n",
        "heatmap = make_gradcam_heatmap(img_array, frozen_model, 'top_conv', pred_index=np.argmax(pred))\n",
        "save_and_display_gradcam(img_path, heatmap)"
      ]
    },
    {
      "cell_type": "code",
      "execution_count": null,
      "metadata": {
        "id": "6IcQwuihoTra",
        "colab": {
          "base_uri": "https://localhost:8080/"
        },
        "outputId": "06b46ed5-93fd-473e-98c2-84305b4d29f9"
      },
      "outputs": [
        {
          "output_type": "stream",
          "name": "stdout",
          "text": [
            "1/1 [==============================] - 0s 25ms/step\n",
            "Classe predita:  Common_Raven\n",
            "probabilidade da predição 79.83777523040771\n"
          ]
        }
      ],
      "source": [
        "#fazendo download de uma imagem e armazenando.\n",
        "img_path = \"/content/Test/Common_Raven/Common_Raven_0085_102041.jpg\"\n",
        "\n",
        "# display(display_image(img_path))\n",
        "\n",
        "# preparando imagem\n",
        "img_array = preprocess_input(get_img_array(img_path, size=(300,300)))\n",
        "\n",
        "# predição\n",
        "pred = frozen_model.predict(img_array)\n",
        "print('Classe predita: ', species[np.argmax(pred)])\n",
        "print('probabilidade da predição', pred[0][np.argmax(pred)] * 100)"
      ]
    },
    {
      "cell_type": "code",
      "execution_count": null,
      "metadata": {
        "id": "I25D_GYMoTon",
        "colab": {
          "base_uri": "https://localhost:8080/",
          "height": 351
        },
        "outputId": "2149d028-640c-46f3-a6e5-a00e7e43bed4"
      },
      "outputs": [
        {
          "output_type": "display_data",
          "data": {
            "image/jpeg": "[encoded data removed]",
            "text/plain": [
              "<IPython.core.display.Image object>"
            ]
          },
          "metadata": {}
        }
      ],
      "source": [
        "#extraindo o mapa de features (\"calor\") e sobrepondo a imagem original.\n",
        "heatmap = make_gradcam_heatmap(img_array, frozen_model, 'top_conv', pred_index=np.argmax(pred))\n",
        "save_and_display_gradcam(img_path, heatmap)"
      ]
    },
    {
      "cell_type": "code",
      "execution_count": null,
      "metadata": {
        "id": "un6gTnFOoTlD",
        "colab": {
          "base_uri": "https://localhost:8080/"
        },
        "outputId": "522450b8-df8e-4a03-9545-fef88d25816a"
      },
      "outputs": [
        {
          "output_type": "stream",
          "name": "stdout",
          "text": [
            "1/1 [==============================] - 0s 26ms/step\n",
            "Classe predita:  American_Crow\n",
            "probabilidade da predição 41.340264678001404\n"
          ]
        }
      ],
      "source": [
        "#fazendo download de uma imagem e armazenando.\n",
        "img_path = \"/content/Test/American_Crow/American_Crow_0016_25112.jpg\"\n",
        "\n",
        "# display(display_image(img_path))\n",
        "\n",
        "# preparando imagem\n",
        "img_array = preprocess_input(get_img_array(img_path, size=(300,300)))\n",
        "\n",
        "# predição\n",
        "pred = frozen_model.predict(img_array)\n",
        "print('Classe predita: ', species[np.argmax(pred)])\n",
        "print('probabilidade da predição', pred[0][np.argmax(pred)] * 100)"
      ]
    },
    {
      "cell_type": "code",
      "execution_count": null,
      "metadata": {
        "id": "qFHmy52_ExMx",
        "colab": {
          "base_uri": "https://localhost:8080/",
          "height": 371
        },
        "outputId": "71ced8d6-88d4-436a-9ffa-b3da312409ed"
      },
      "outputs": [
        {
          "output_type": "display_data",
          "data": {
            "image/jpeg": "[encoded data removed]",
            "text/plain": [
              "<IPython.core.display.Image object>"
            ]
          },
          "metadata": {}
        }
      ],
      "source": [
        "#extraindo o mapa de features (\"calor\") e sobrepondo a imagem original.\n",
        "heatmap = make_gradcam_heatmap(img_array, frozen_model, 'top_conv', pred_index=np.argmax(pred))\n",
        "save_and_display_gradcam(img_path, heatmap)"
      ]
    },
    {
      "cell_type": "code",
      "source": [
        "#fazendo download de uma imagem e armazenando.\n",
        "img_path = \"/content/Test/American_Crow/American_Crow_0062_25587.jpg\"\n",
        "\n",
        "# display(display_image(img_path))\n",
        "\n",
        "# preparando imagem\n",
        "img_array = preprocess_input(get_img_array(img_path, size=(300,300)))\n",
        "\n",
        "# predição\n",
        "pred = frozen_model.predict(img_array)\n",
        "print('Classe predita: ', species[np.argmax(pred)])\n",
        "print('probabilidade da predição', pred[0][np.argmax(pred)] * 100)"
      ],
      "metadata": {
        "colab": {
          "base_uri": "https://localhost:8080/"
        },
        "id": "kC2FWfy75aSH",
        "outputId": "a2be2374-9a58-4e3a-ee18-6497058fb729"
      },
      "execution_count": null,
      "outputs": [
        {
          "output_type": "stream",
          "name": "stdout",
          "text": [
            "1/1 [==============================] - 0s 26ms/step\n",
            "Classe predita:  American_Crow\n",
            "probabilidade da predição 45.11042833328247\n"
          ]
        }
      ]
    },
    {
      "cell_type": "code",
      "source": [
        "#extraindo o mapa de features (\"calor\") e sobrepondo a imagem original.\n",
        "heatmap = make_gradcam_heatmap(img_array, frozen_model, 'top_conv', pred_index=np.argmax(pred))\n",
        "save_and_display_gradcam(img_path, heatmap)"
      ],
      "metadata": {
        "colab": {
          "base_uri": "https://localhost:8080/",
          "height": 416
        },
        "id": "MXRG8Gz55eVf",
        "outputId": "e42c9650-9938-487c-b786-de56e4226848"
      },
      "execution_count": null,
      "outputs": [
        {
          "output_type": "display_data",
          "data": {
            "image/jpeg": "[encoded data removed]",
            "text/plain": [
              "<IPython.core.display.Image object>"
            ]
          },
          "metadata": {}
        }
      ]
    },
    {
      "cell_type": "code",
      "source": [],
      "metadata": {
        "id": "BV3TVPsf5jrR"
      },
      "execution_count": null,
      "outputs": []
    }
  ],
  "metadata": {
    "accelerator": "GPU",
    "colab": {
      "machine_shape": "hm",
      "provenance": []
    },
    "gpuClass": "standard",
    "kernelspec": {
      "display_name": "Python 3",
      "name": "python3"
    },
    "language_info": {
      "name": "python"
    }
  },
  "nbformat": 4,
  "nbformat_minor": 0
}